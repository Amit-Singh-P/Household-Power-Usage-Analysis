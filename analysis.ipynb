{
 "cells": [
  {
   "cell_type": "code",
   "execution_count": 2,
   "id": "5529e3ee",
   "metadata": {},
   "outputs": [],
   "source": [
    "import pandas as pd\n",
    "import seaborn as sns\n",
    "import matplotlib.pyplot as plt\n",
    "import numpy as np\n",
    "import warnings"
   ]
  },
  {
   "cell_type": "code",
   "execution_count": 3,
   "id": "9833df5e",
   "metadata": {},
   "outputs": [],
   "source": [
    "warnings.filterwarnings('ignore')"
   ]
  },
  {
   "cell_type": "code",
   "execution_count": 4,
   "id": "99a5777c",
   "metadata": {},
   "outputs": [],
   "source": [
    "df = pd.read_csv(\"household_power_consumption.csv\")"
   ]
  },
  {
   "cell_type": "code",
   "execution_count": 5,
   "id": "688f039c",
   "metadata": {},
   "outputs": [
    {
     "data": {
      "text/html": [
       "<div>\n",
       "<style scoped>\n",
       "    .dataframe tbody tr th:only-of-type {\n",
       "        vertical-align: middle;\n",
       "    }\n",
       "\n",
       "    .dataframe tbody tr th {\n",
       "        vertical-align: top;\n",
       "    }\n",
       "\n",
       "    .dataframe thead th {\n",
       "        text-align: right;\n",
       "    }\n",
       "</style>\n",
       "<table border=\"1\" class=\"dataframe\">\n",
       "  <thead>\n",
       "    <tr style=\"text-align: right;\">\n",
       "      <th></th>\n",
       "      <th>Date</th>\n",
       "      <th>Time</th>\n",
       "      <th>Global_active_power</th>\n",
       "      <th>Global_reactive_power</th>\n",
       "      <th>Voltage</th>\n",
       "      <th>Global_intensity</th>\n",
       "      <th>Sub_metering_1</th>\n",
       "      <th>Sub_metering_2</th>\n",
       "      <th>Sub_metering_3</th>\n",
       "    </tr>\n",
       "  </thead>\n",
       "  <tbody>\n",
       "    <tr>\n",
       "      <th>0</th>\n",
       "      <td>16/12/2006</td>\n",
       "      <td>17:24:00</td>\n",
       "      <td>4.216</td>\n",
       "      <td>0.418</td>\n",
       "      <td>234.84</td>\n",
       "      <td>18.4</td>\n",
       "      <td>0</td>\n",
       "      <td>1</td>\n",
       "      <td>17.0</td>\n",
       "    </tr>\n",
       "    <tr>\n",
       "      <th>1</th>\n",
       "      <td>16/12/2006</td>\n",
       "      <td>17:25:00</td>\n",
       "      <td>5.36</td>\n",
       "      <td>0.436</td>\n",
       "      <td>233.63</td>\n",
       "      <td>23</td>\n",
       "      <td>0</td>\n",
       "      <td>1</td>\n",
       "      <td>16.0</td>\n",
       "    </tr>\n",
       "    <tr>\n",
       "      <th>2</th>\n",
       "      <td>16/12/2006</td>\n",
       "      <td>17:26:00</td>\n",
       "      <td>5.374</td>\n",
       "      <td>0.498</td>\n",
       "      <td>233.29</td>\n",
       "      <td>23</td>\n",
       "      <td>0</td>\n",
       "      <td>2</td>\n",
       "      <td>17.0</td>\n",
       "    </tr>\n",
       "    <tr>\n",
       "      <th>3</th>\n",
       "      <td>16/12/2006</td>\n",
       "      <td>17:27:00</td>\n",
       "      <td>5.388</td>\n",
       "      <td>0.502</td>\n",
       "      <td>233.74</td>\n",
       "      <td>23</td>\n",
       "      <td>0</td>\n",
       "      <td>1</td>\n",
       "      <td>17.0</td>\n",
       "    </tr>\n",
       "    <tr>\n",
       "      <th>4</th>\n",
       "      <td>16/12/2006</td>\n",
       "      <td>17:28:00</td>\n",
       "      <td>3.666</td>\n",
       "      <td>0.528</td>\n",
       "      <td>235.68</td>\n",
       "      <td>15.8</td>\n",
       "      <td>0</td>\n",
       "      <td>1</td>\n",
       "      <td>17.0</td>\n",
       "    </tr>\n",
       "  </tbody>\n",
       "</table>\n",
       "</div>"
      ],
      "text/plain": [
       "         Date      Time Global_active_power Global_reactive_power Voltage  \\\n",
       "0  16/12/2006  17:24:00               4.216                 0.418  234.84   \n",
       "1  16/12/2006  17:25:00                5.36                 0.436  233.63   \n",
       "2  16/12/2006  17:26:00               5.374                 0.498  233.29   \n",
       "3  16/12/2006  17:27:00               5.388                 0.502  233.74   \n",
       "4  16/12/2006  17:28:00               3.666                 0.528  235.68   \n",
       "\n",
       "  Global_intensity Sub_metering_1 Sub_metering_2  Sub_metering_3  \n",
       "0             18.4              0              1            17.0  \n",
       "1               23              0              1            16.0  \n",
       "2               23              0              2            17.0  \n",
       "3               23              0              1            17.0  \n",
       "4             15.8              0              1            17.0  "
      ]
     },
     "execution_count": 5,
     "metadata": {},
     "output_type": "execute_result"
    }
   ],
   "source": [
    "df.head()"
   ]
  },
  {
   "cell_type": "code",
   "execution_count": 6,
   "id": "6c0bede9",
   "metadata": {},
   "outputs": [
    {
     "data": {
      "text/html": [
       "<div>\n",
       "<style scoped>\n",
       "    .dataframe tbody tr th:only-of-type {\n",
       "        vertical-align: middle;\n",
       "    }\n",
       "\n",
       "    .dataframe tbody tr th {\n",
       "        vertical-align: top;\n",
       "    }\n",
       "\n",
       "    .dataframe thead th {\n",
       "        text-align: right;\n",
       "    }\n",
       "</style>\n",
       "<table border=\"1\" class=\"dataframe\">\n",
       "  <thead>\n",
       "    <tr style=\"text-align: right;\">\n",
       "      <th></th>\n",
       "      <th>Date</th>\n",
       "      <th>Time</th>\n",
       "      <th>Global_active_power</th>\n",
       "      <th>Global_reactive_power</th>\n",
       "      <th>Voltage</th>\n",
       "      <th>Global_intensity</th>\n",
       "      <th>Sub_metering_1</th>\n",
       "      <th>Sub_metering_2</th>\n",
       "      <th>Sub_metering_3</th>\n",
       "    </tr>\n",
       "  </thead>\n",
       "  <tbody>\n",
       "    <tr>\n",
       "      <th>1048570</th>\n",
       "      <td>13/12/2008</td>\n",
       "      <td>21:34:00</td>\n",
       "      <td>0.426</td>\n",
       "      <td>0.076</td>\n",
       "      <td>242.27</td>\n",
       "      <td>1.8</td>\n",
       "      <td>0</td>\n",
       "      <td>0</td>\n",
       "      <td>0.0</td>\n",
       "    </tr>\n",
       "    <tr>\n",
       "      <th>1048571</th>\n",
       "      <td>13/12/2008</td>\n",
       "      <td>21:35:00</td>\n",
       "      <td>0.424</td>\n",
       "      <td>0.076</td>\n",
       "      <td>242.1</td>\n",
       "      <td>1.8</td>\n",
       "      <td>0</td>\n",
       "      <td>0</td>\n",
       "      <td>0.0</td>\n",
       "    </tr>\n",
       "    <tr>\n",
       "      <th>1048572</th>\n",
       "      <td>13/12/2008</td>\n",
       "      <td>21:36:00</td>\n",
       "      <td>0.422</td>\n",
       "      <td>0.076</td>\n",
       "      <td>241.73</td>\n",
       "      <td>1.8</td>\n",
       "      <td>0</td>\n",
       "      <td>0</td>\n",
       "      <td>0.0</td>\n",
       "    </tr>\n",
       "    <tr>\n",
       "      <th>1048573</th>\n",
       "      <td>13/12/2008</td>\n",
       "      <td>21:37:00</td>\n",
       "      <td>0.422</td>\n",
       "      <td>0.078</td>\n",
       "      <td>242.56</td>\n",
       "      <td>1.8</td>\n",
       "      <td>0</td>\n",
       "      <td>0</td>\n",
       "      <td>0.0</td>\n",
       "    </tr>\n",
       "    <tr>\n",
       "      <th>1048574</th>\n",
       "      <td>13/12/2008</td>\n",
       "      <td>21:38:00</td>\n",
       "      <td>0.422</td>\n",
       "      <td>0.078</td>\n",
       "      <td>242.61</td>\n",
       "      <td>1.8</td>\n",
       "      <td>0</td>\n",
       "      <td>0</td>\n",
       "      <td>0.0</td>\n",
       "    </tr>\n",
       "  </tbody>\n",
       "</table>\n",
       "</div>"
      ],
      "text/plain": [
       "               Date      Time Global_active_power Global_reactive_power  \\\n",
       "1048570  13/12/2008  21:34:00               0.426                 0.076   \n",
       "1048571  13/12/2008  21:35:00               0.424                 0.076   \n",
       "1048572  13/12/2008  21:36:00               0.422                 0.076   \n",
       "1048573  13/12/2008  21:37:00               0.422                 0.078   \n",
       "1048574  13/12/2008  21:38:00               0.422                 0.078   \n",
       "\n",
       "        Voltage Global_intensity Sub_metering_1 Sub_metering_2  Sub_metering_3  \n",
       "1048570  242.27              1.8              0              0             0.0  \n",
       "1048571   242.1              1.8              0              0             0.0  \n",
       "1048572  241.73              1.8              0              0             0.0  \n",
       "1048573  242.56              1.8              0              0             0.0  \n",
       "1048574  242.61              1.8              0              0             0.0  "
      ]
     },
     "execution_count": 6,
     "metadata": {},
     "output_type": "execute_result"
    }
   ],
   "source": [
    "df.tail()"
   ]
  },
  {
   "cell_type": "code",
   "execution_count": 7,
   "id": "c0319391",
   "metadata": {},
   "outputs": [
    {
     "name": "stdout",
     "output_type": "stream",
     "text": [
      "<class 'pandas.core.frame.DataFrame'>\n",
      "RangeIndex: 1048575 entries, 0 to 1048574\n",
      "Data columns (total 9 columns):\n",
      " #   Column                 Non-Null Count    Dtype  \n",
      "---  ------                 --------------    -----  \n",
      " 0   Date                   1048575 non-null  object \n",
      " 1   Time                   1048575 non-null  object \n",
      " 2   Global_active_power    1048575 non-null  object \n",
      " 3   Global_reactive_power  1048575 non-null  object \n",
      " 4   Voltage                1048575 non-null  object \n",
      " 5   Global_intensity       1048575 non-null  object \n",
      " 6   Sub_metering_1         1048575 non-null  object \n",
      " 7   Sub_metering_2         1048575 non-null  object \n",
      " 8   Sub_metering_3         1044506 non-null  float64\n",
      "dtypes: float64(1), object(8)\n",
      "memory usage: 72.0+ MB\n"
     ]
    }
   ],
   "source": [
    "df.info()"
   ]
  },
  {
   "cell_type": "code",
   "execution_count": 8,
   "id": "48ddb29d",
   "metadata": {},
   "outputs": [
    {
     "data": {
      "text/html": [
       "<div>\n",
       "<style scoped>\n",
       "    .dataframe tbody tr th:only-of-type {\n",
       "        vertical-align: middle;\n",
       "    }\n",
       "\n",
       "    .dataframe tbody tr th {\n",
       "        vertical-align: top;\n",
       "    }\n",
       "\n",
       "    .dataframe thead th {\n",
       "        text-align: right;\n",
       "    }\n",
       "</style>\n",
       "<table border=\"1\" class=\"dataframe\">\n",
       "  <thead>\n",
       "    <tr style=\"text-align: right;\">\n",
       "      <th></th>\n",
       "      <th>Sub_metering_3</th>\n",
       "    </tr>\n",
       "  </thead>\n",
       "  <tbody>\n",
       "    <tr>\n",
       "      <th>count</th>\n",
       "      <td>1.044506e+06</td>\n",
       "    </tr>\n",
       "    <tr>\n",
       "      <th>mean</th>\n",
       "      <td>5.933837e+00</td>\n",
       "    </tr>\n",
       "    <tr>\n",
       "      <th>std</th>\n",
       "      <td>8.210398e+00</td>\n",
       "    </tr>\n",
       "    <tr>\n",
       "      <th>min</th>\n",
       "      <td>0.000000e+00</td>\n",
       "    </tr>\n",
       "    <tr>\n",
       "      <th>25%</th>\n",
       "      <td>0.000000e+00</td>\n",
       "    </tr>\n",
       "    <tr>\n",
       "      <th>50%</th>\n",
       "      <td>0.000000e+00</td>\n",
       "    </tr>\n",
       "    <tr>\n",
       "      <th>75%</th>\n",
       "      <td>1.700000e+01</td>\n",
       "    </tr>\n",
       "    <tr>\n",
       "      <th>max</th>\n",
       "      <td>3.100000e+01</td>\n",
       "    </tr>\n",
       "  </tbody>\n",
       "</table>\n",
       "</div>"
      ],
      "text/plain": [
       "       Sub_metering_3\n",
       "count    1.044506e+06\n",
       "mean     5.933837e+00\n",
       "std      8.210398e+00\n",
       "min      0.000000e+00\n",
       "25%      0.000000e+00\n",
       "50%      0.000000e+00\n",
       "75%      1.700000e+01\n",
       "max      3.100000e+01"
      ]
     },
     "execution_count": 8,
     "metadata": {},
     "output_type": "execute_result"
    }
   ],
   "source": [
    "df.describe()"
   ]
  },
  {
   "cell_type": "code",
   "execution_count": 9,
   "id": "e5395569",
   "metadata": {},
   "outputs": [
    {
     "data": {
      "text/plain": [
       "<bound method NDFrame.describe of                Date      Time Global_active_power Global_reactive_power  \\\n",
       "0        16/12/2006  17:24:00               4.216                 0.418   \n",
       "1        16/12/2006  17:25:00                5.36                 0.436   \n",
       "2        16/12/2006  17:26:00               5.374                 0.498   \n",
       "3        16/12/2006  17:27:00               5.388                 0.502   \n",
       "4        16/12/2006  17:28:00               3.666                 0.528   \n",
       "...             ...       ...                 ...                   ...   \n",
       "1048570  13/12/2008  21:34:00               0.426                 0.076   \n",
       "1048571  13/12/2008  21:35:00               0.424                 0.076   \n",
       "1048572  13/12/2008  21:36:00               0.422                 0.076   \n",
       "1048573  13/12/2008  21:37:00               0.422                 0.078   \n",
       "1048574  13/12/2008  21:38:00               0.422                 0.078   \n",
       "\n",
       "        Voltage Global_intensity Sub_metering_1 Sub_metering_2  Sub_metering_3  \n",
       "0        234.84             18.4              0              1            17.0  \n",
       "1        233.63               23              0              1            16.0  \n",
       "2        233.29               23              0              2            17.0  \n",
       "3        233.74               23              0              1            17.0  \n",
       "4        235.68             15.8              0              1            17.0  \n",
       "...         ...              ...            ...            ...             ...  \n",
       "1048570  242.27              1.8              0              0             0.0  \n",
       "1048571   242.1              1.8              0              0             0.0  \n",
       "1048572  241.73              1.8              0              0             0.0  \n",
       "1048573  242.56              1.8              0              0             0.0  \n",
       "1048574  242.61              1.8              0              0             0.0  \n",
       "\n",
       "[1048575 rows x 9 columns]>"
      ]
     },
     "execution_count": 9,
     "metadata": {},
     "output_type": "execute_result"
    }
   ],
   "source": [
    "df.describe"
   ]
  },
  {
   "cell_type": "code",
   "execution_count": 10,
   "id": "98cce4ff",
   "metadata": {},
   "outputs": [
    {
     "data": {
      "text/plain": [
       "<bound method DataFrame.info of                Date      Time Global_active_power Global_reactive_power  \\\n",
       "0        16/12/2006  17:24:00               4.216                 0.418   \n",
       "1        16/12/2006  17:25:00                5.36                 0.436   \n",
       "2        16/12/2006  17:26:00               5.374                 0.498   \n",
       "3        16/12/2006  17:27:00               5.388                 0.502   \n",
       "4        16/12/2006  17:28:00               3.666                 0.528   \n",
       "...             ...       ...                 ...                   ...   \n",
       "1048570  13/12/2008  21:34:00               0.426                 0.076   \n",
       "1048571  13/12/2008  21:35:00               0.424                 0.076   \n",
       "1048572  13/12/2008  21:36:00               0.422                 0.076   \n",
       "1048573  13/12/2008  21:37:00               0.422                 0.078   \n",
       "1048574  13/12/2008  21:38:00               0.422                 0.078   \n",
       "\n",
       "        Voltage Global_intensity Sub_metering_1 Sub_metering_2  Sub_metering_3  \n",
       "0        234.84             18.4              0              1            17.0  \n",
       "1        233.63               23              0              1            16.0  \n",
       "2        233.29               23              0              2            17.0  \n",
       "3        233.74               23              0              1            17.0  \n",
       "4        235.68             15.8              0              1            17.0  \n",
       "...         ...              ...            ...            ...             ...  \n",
       "1048570  242.27              1.8              0              0             0.0  \n",
       "1048571   242.1              1.8              0              0             0.0  \n",
       "1048572  241.73              1.8              0              0             0.0  \n",
       "1048573  242.56              1.8              0              0             0.0  \n",
       "1048574  242.61              1.8              0              0             0.0  \n",
       "\n",
       "[1048575 rows x 9 columns]>"
      ]
     },
     "execution_count": 10,
     "metadata": {},
     "output_type": "execute_result"
    }
   ],
   "source": [
    "df.info"
   ]
  },
  {
   "cell_type": "code",
   "execution_count": 11,
   "id": "75c1ddd7",
   "metadata": {},
   "outputs": [
    {
     "data": {
      "text/plain": [
       "Index(['Date', 'Time', 'Global_active_power', 'Global_reactive_power',\n",
       "       'Voltage', 'Global_intensity', 'Sub_metering_1', 'Sub_metering_2',\n",
       "       'Sub_metering_3'],\n",
       "      dtype='object')"
      ]
     },
     "execution_count": 11,
     "metadata": {},
     "output_type": "execute_result"
    }
   ],
   "source": [
    "df.columns"
   ]
  },
  {
   "cell_type": "code",
   "execution_count": 12,
   "id": "f04d7c43",
   "metadata": {},
   "outputs": [
    {
     "data": {
      "text/plain": [
       "(1048575, 9)"
      ]
     },
     "execution_count": 12,
     "metadata": {},
     "output_type": "execute_result"
    }
   ],
   "source": [
    "df.shape"
   ]
  },
  {
   "cell_type": "code",
   "execution_count": 13,
   "id": "3e504e77",
   "metadata": {},
   "outputs": [
    {
     "data": {
      "text/plain": [
       "2"
      ]
     },
     "execution_count": 13,
     "metadata": {},
     "output_type": "execute_result"
    }
   ],
   "source": [
    "df.ndim"
   ]
  },
  {
   "cell_type": "code",
   "execution_count": 14,
   "id": "b3dcbf47",
   "metadata": {},
   "outputs": [
    {
     "data": {
      "text/plain": [
       "<bound method DataFrame.isnull of                Date      Time Global_active_power Global_reactive_power  \\\n",
       "0        16/12/2006  17:24:00               4.216                 0.418   \n",
       "1        16/12/2006  17:25:00                5.36                 0.436   \n",
       "2        16/12/2006  17:26:00               5.374                 0.498   \n",
       "3        16/12/2006  17:27:00               5.388                 0.502   \n",
       "4        16/12/2006  17:28:00               3.666                 0.528   \n",
       "...             ...       ...                 ...                   ...   \n",
       "1048570  13/12/2008  21:34:00               0.426                 0.076   \n",
       "1048571  13/12/2008  21:35:00               0.424                 0.076   \n",
       "1048572  13/12/2008  21:36:00               0.422                 0.076   \n",
       "1048573  13/12/2008  21:37:00               0.422                 0.078   \n",
       "1048574  13/12/2008  21:38:00               0.422                 0.078   \n",
       "\n",
       "        Voltage Global_intensity Sub_metering_1 Sub_metering_2  Sub_metering_3  \n",
       "0        234.84             18.4              0              1            17.0  \n",
       "1        233.63               23              0              1            16.0  \n",
       "2        233.29               23              0              2            17.0  \n",
       "3        233.74               23              0              1            17.0  \n",
       "4        235.68             15.8              0              1            17.0  \n",
       "...         ...              ...            ...            ...             ...  \n",
       "1048570  242.27              1.8              0              0             0.0  \n",
       "1048571   242.1              1.8              0              0             0.0  \n",
       "1048572  241.73              1.8              0              0             0.0  \n",
       "1048573  242.56              1.8              0              0             0.0  \n",
       "1048574  242.61              1.8              0              0             0.0  \n",
       "\n",
       "[1048575 rows x 9 columns]>"
      ]
     },
     "execution_count": 14,
     "metadata": {},
     "output_type": "execute_result"
    }
   ],
   "source": [
    "df.isnull"
   ]
  },
  {
   "cell_type": "code",
   "execution_count": 15,
   "id": "f5b54b3b",
   "metadata": {},
   "outputs": [
    {
     "data": {
      "text/plain": [
       "Date                        0\n",
       "Time                        0\n",
       "Global_active_power         0\n",
       "Global_reactive_power       0\n",
       "Voltage                     0\n",
       "Global_intensity            0\n",
       "Sub_metering_1              0\n",
       "Sub_metering_2              0\n",
       "Sub_metering_3           4069\n",
       "dtype: int64"
      ]
     },
     "execution_count": 15,
     "metadata": {},
     "output_type": "execute_result"
    }
   ],
   "source": [
    "df.isnull().sum()"
   ]
  },
  {
   "cell_type": "code",
   "execution_count": 16,
   "id": "f51a0a72",
   "metadata": {},
   "outputs": [
    {
     "data": {
      "text/plain": [
       "Date                      729\n",
       "Time                     1440\n",
       "Global_active_power      4076\n",
       "Global_reactive_power     492\n",
       "Voltage                  2605\n",
       "Global_intensity          219\n",
       "Sub_metering_1             82\n",
       "Sub_metering_2             80\n",
       "Sub_metering_3             32\n",
       "dtype: int64"
      ]
     },
     "execution_count": 16,
     "metadata": {},
     "output_type": "execute_result"
    }
   ],
   "source": [
    "df.nunique()"
   ]
  },
  {
   "cell_type": "code",
   "execution_count": 17,
   "id": "0d601b53",
   "metadata": {},
   "outputs": [
    {
     "data": {
      "text/plain": [
       "array([17., 16., 18.,  9.,  0.,  5., 19., 10., 20.,  8.,  4.,  2.,  3.,\n",
       "       11., 13.,  6., 15., nan, 12.,  1., 14.,  7., 23., 25., 26., 28.,\n",
       "       27., 21., 22., 29., 24., 30., 31.])"
      ]
     },
     "execution_count": 17,
     "metadata": {},
     "output_type": "execute_result"
    }
   ],
   "source": [
    "df['Sub_metering_3'].unique()"
   ]
  },
  {
   "cell_type": "code",
   "execution_count": 18,
   "id": "fbd9fb3e",
   "metadata": {},
   "outputs": [
    {
     "data": {
      "text/plain": [
       "(1048575, 9)"
      ]
     },
     "execution_count": 18,
     "metadata": {},
     "output_type": "execute_result"
    }
   ],
   "source": [
    "# 1. What is the total number of records in the dataset?\n",
    "df.shape"
   ]
  },
  {
   "cell_type": "code",
   "execution_count": 19,
   "id": "3f2b3d31",
   "metadata": {},
   "outputs": [
    {
     "data": {
      "text/plain": [
       "Date                        0\n",
       "Time                        0\n",
       "Global_active_power         0\n",
       "Global_reactive_power       0\n",
       "Voltage                     0\n",
       "Global_intensity            0\n",
       "Sub_metering_1              0\n",
       "Sub_metering_2              0\n",
       "Sub_metering_3           4069\n",
       "dtype: int64"
      ]
     },
     "execution_count": 19,
     "metadata": {},
     "output_type": "execute_result"
    }
   ],
   "source": [
    "# 2. Are there any missing values in the dataset? If so, in which columns?\n",
    "df.isnull().sum()"
   ]
  },
  {
   "cell_type": "code",
   "execution_count": 20,
   "id": "f22c2d0f",
   "metadata": {},
   "outputs": [
    {
     "name": "stdout",
     "output_type": "stream",
     "text": [
      "<class 'pandas.core.frame.DataFrame'>\n",
      "RangeIndex: 1048575 entries, 0 to 1048574\n",
      "Data columns (total 9 columns):\n",
      " #   Column                 Non-Null Count    Dtype  \n",
      "---  ------                 --------------    -----  \n",
      " 0   Date                   1048575 non-null  object \n",
      " 1   Time                   1048575 non-null  object \n",
      " 2   Global_active_power    1048575 non-null  object \n",
      " 3   Global_reactive_power  1048575 non-null  object \n",
      " 4   Voltage                1048575 non-null  object \n",
      " 5   Global_intensity       1048575 non-null  object \n",
      " 6   Sub_metering_1         1048575 non-null  object \n",
      " 7   Sub_metering_2         1048575 non-null  object \n",
      " 8   Sub_metering_3         1044506 non-null  float64\n",
      "dtypes: float64(1), object(8)\n",
      "memory usage: 72.0+ MB\n"
     ]
    }
   ],
   "source": [
    "# 3. What are the data types of each column?\n",
    "df.info()"
   ]
  },
  {
   "cell_type": "code",
   "execution_count": 21,
   "id": "09117e54",
   "metadata": {},
   "outputs": [
    {
     "name": "stdout",
     "output_type": "stream",
     "text": [
      "1/1/2007 - 9/9/2008\n"
     ]
    }
   ],
   "source": [
    "# 4. What is the range of dates present in the dataset?\n",
    "print(f\"{df[\"Date\"].min()} - {df[\"Date\"].max()}\")"
   ]
  },
  {
   "cell_type": "markdown",
   "id": "b253d5bd",
   "metadata": {},
   "source": [
    "# 5. First you have to make a Total_Submetering column by adding the all submeterings."
   ]
  },
  {
   "cell_type": "code",
   "execution_count": 22,
   "id": "dd2e2e5b",
   "metadata": {},
   "outputs": [
    {
     "data": {
      "text/html": [
       "<div>\n",
       "<style scoped>\n",
       "    .dataframe tbody tr th:only-of-type {\n",
       "        vertical-align: middle;\n",
       "    }\n",
       "\n",
       "    .dataframe tbody tr th {\n",
       "        vertical-align: top;\n",
       "    }\n",
       "\n",
       "    .dataframe thead th {\n",
       "        text-align: right;\n",
       "    }\n",
       "</style>\n",
       "<table border=\"1\" class=\"dataframe\">\n",
       "  <thead>\n",
       "    <tr style=\"text-align: right;\">\n",
       "      <th></th>\n",
       "      <th>Date</th>\n",
       "      <th>Time</th>\n",
       "      <th>Global_active_power</th>\n",
       "      <th>Global_reactive_power</th>\n",
       "      <th>Voltage</th>\n",
       "      <th>Global_intensity</th>\n",
       "      <th>Sub_metering_1</th>\n",
       "      <th>Sub_metering_2</th>\n",
       "      <th>Sub_metering_3</th>\n",
       "    </tr>\n",
       "  </thead>\n",
       "  <tbody>\n",
       "    <tr>\n",
       "      <th>0</th>\n",
       "      <td>16/12/2006</td>\n",
       "      <td>17:24:00</td>\n",
       "      <td>4.216</td>\n",
       "      <td>0.418</td>\n",
       "      <td>234.84</td>\n",
       "      <td>18.4</td>\n",
       "      <td>0</td>\n",
       "      <td>1</td>\n",
       "      <td>17.0</td>\n",
       "    </tr>\n",
       "    <tr>\n",
       "      <th>1</th>\n",
       "      <td>16/12/2006</td>\n",
       "      <td>17:25:00</td>\n",
       "      <td>5.36</td>\n",
       "      <td>0.436</td>\n",
       "      <td>233.63</td>\n",
       "      <td>23</td>\n",
       "      <td>0</td>\n",
       "      <td>1</td>\n",
       "      <td>16.0</td>\n",
       "    </tr>\n",
       "    <tr>\n",
       "      <th>2</th>\n",
       "      <td>16/12/2006</td>\n",
       "      <td>17:26:00</td>\n",
       "      <td>5.374</td>\n",
       "      <td>0.498</td>\n",
       "      <td>233.29</td>\n",
       "      <td>23</td>\n",
       "      <td>0</td>\n",
       "      <td>2</td>\n",
       "      <td>17.0</td>\n",
       "    </tr>\n",
       "    <tr>\n",
       "      <th>3</th>\n",
       "      <td>16/12/2006</td>\n",
       "      <td>17:27:00</td>\n",
       "      <td>5.388</td>\n",
       "      <td>0.502</td>\n",
       "      <td>233.74</td>\n",
       "      <td>23</td>\n",
       "      <td>0</td>\n",
       "      <td>1</td>\n",
       "      <td>17.0</td>\n",
       "    </tr>\n",
       "    <tr>\n",
       "      <th>4</th>\n",
       "      <td>16/12/2006</td>\n",
       "      <td>17:28:00</td>\n",
       "      <td>3.666</td>\n",
       "      <td>0.528</td>\n",
       "      <td>235.68</td>\n",
       "      <td>15.8</td>\n",
       "      <td>0</td>\n",
       "      <td>1</td>\n",
       "      <td>17.0</td>\n",
       "    </tr>\n",
       "  </tbody>\n",
       "</table>\n",
       "</div>"
      ],
      "text/plain": [
       "         Date      Time Global_active_power Global_reactive_power Voltage  \\\n",
       "0  16/12/2006  17:24:00               4.216                 0.418  234.84   \n",
       "1  16/12/2006  17:25:00                5.36                 0.436  233.63   \n",
       "2  16/12/2006  17:26:00               5.374                 0.498  233.29   \n",
       "3  16/12/2006  17:27:00               5.388                 0.502  233.74   \n",
       "4  16/12/2006  17:28:00               3.666                 0.528  235.68   \n",
       "\n",
       "  Global_intensity Sub_metering_1 Sub_metering_2  Sub_metering_3  \n",
       "0             18.4              0              1            17.0  \n",
       "1               23              0              1            16.0  \n",
       "2               23              0              2            17.0  \n",
       "3               23              0              1            17.0  \n",
       "4             15.8              0              1            17.0  "
      ]
     },
     "execution_count": 22,
     "metadata": {},
     "output_type": "execute_result"
    }
   ],
   "source": [
    "df.head()"
   ]
  },
  {
   "cell_type": "code",
   "execution_count": 23,
   "id": "5e3b994d",
   "metadata": {},
   "outputs": [
    {
     "data": {
      "text/plain": [
       "array(['0', '1', '2', '6', '37', '36', '38', '25', '12', '11', '9', '4',\n",
       "       '33', '5', '34', '8', '26', '27', '15', '20', '21', '23', '16',\n",
       "       '10', '39', '32', '?', '19', '35', '30', '40', '7', '31', '17',\n",
       "       '3', '29', '24', '14', '41', '53', '76', '75', '77', '74', '28',\n",
       "       '68', '58', '62', '13', '18', '22', '64', '71', '56', '72', '45',\n",
       "       '42', '59', '66', '43', '44', '48', '46', '73', '55', '60', '70',\n",
       "       '63', '67', '47', '65', '51', '50', '69', '78', '57', '49', '61',\n",
       "       '52', '54', '79', '80'], dtype=object)"
      ]
     },
     "execution_count": 23,
     "metadata": {},
     "output_type": "execute_result"
    }
   ],
   "source": [
    "df[\"Sub_metering_1\"].unique()"
   ]
  },
  {
   "cell_type": "markdown",
   "id": "002e2ba5",
   "metadata": {},
   "source": [
    "First we will clean the Sub_metering_1, Sub_metering_2 columns"
   ]
  },
  {
   "cell_type": "markdown",
   "id": "46c53887",
   "metadata": {},
   "source": [
    "Mainly we are replacing \"?\" to NA"
   ]
  },
  {
   "cell_type": "code",
   "execution_count": 24,
   "id": "7aeea515",
   "metadata": {},
   "outputs": [],
   "source": [
    "df[\"Sub_metering_1\"] = df[\"Sub_metering_1\"].replace(\"?\", pd.NA, inplace=True)"
   ]
  },
  {
   "cell_type": "code",
   "execution_count": 25,
   "id": "d8b2492a",
   "metadata": {},
   "outputs": [
    {
     "data": {
      "text/plain": [
       "array(['1', '2', '0', '16', '37', '36', '22', '12', '27', '20', '9', '4',\n",
       "       '3', '5', '13', '35', '28', '26', '24', '21', '17', '33', '25',\n",
       "       '23', '18', '30', '31', '7', '38', '29', '50', '71', '59', '62',\n",
       "       '70', '40', '34', '8', '15', '6', '32', '19', '14', '49', '72',\n",
       "       '73', '61', '39', '42', '10', '56', '11', '?', '43', '67', '63',\n",
       "       '53', '65', '52', '69', '48', '74', '41', '47', '58', '68', '64',\n",
       "       '75', '46', '57', '60', '66', '44', '78', '77', '76', '51', '55',\n",
       "       '45', '54'], dtype=object)"
      ]
     },
     "execution_count": 25,
     "metadata": {},
     "output_type": "execute_result"
    }
   ],
   "source": [
    "df[\"Sub_metering_2\"].unique()"
   ]
  },
  {
   "cell_type": "code",
   "execution_count": 26,
   "id": "25ab6faa",
   "metadata": {},
   "outputs": [],
   "source": [
    "df[\"Sub_metering_2\"] = df[\"Sub_metering_2\"].replace(\"?\", pd.NA, inplace=True)"
   ]
  },
  {
   "cell_type": "code",
   "execution_count": 27,
   "id": "7dc33b48",
   "metadata": {},
   "outputs": [
    {
     "data": {
      "text/plain": [
       "array([17., 16., 18.,  9.,  0.,  5., 19., 10., 20.,  8.,  4.,  2.,  3.,\n",
       "       11., 13.,  6., 15., nan, 12.,  1., 14.,  7., 23., 25., 26., 28.,\n",
       "       27., 21., 22., 29., 24., 30., 31.])"
      ]
     },
     "execution_count": 27,
     "metadata": {},
     "output_type": "execute_result"
    }
   ],
   "source": [
    "df[\"Sub_metering_3\"].unique()"
   ]
  },
  {
   "cell_type": "markdown",
   "id": "af3c3699",
   "metadata": {},
   "source": [
    "Then, we will convert Sub_metering_1, Sub_metering_2 from object to float "
   ]
  },
  {
   "cell_type": "code",
   "execution_count": 28,
   "id": "543a4c8d",
   "metadata": {},
   "outputs": [],
   "source": [
    "df[\"Sub_metering_1\"] = df[\"Sub_metering_1\"].astype(float)"
   ]
  },
  {
   "cell_type": "code",
   "execution_count": 29,
   "id": "4d116fa4",
   "metadata": {},
   "outputs": [],
   "source": [
    "df[\"Sub_metering_2\"] = df[\"Sub_metering_2\"].astype(float)"
   ]
  },
  {
   "cell_type": "markdown",
   "id": "c2cd7f31",
   "metadata": {},
   "source": [
    "Since, Sub_metering_3 is already float, no changes made"
   ]
  },
  {
   "cell_type": "markdown",
   "id": "f61449fd",
   "metadata": {},
   "source": [
    "Filling the empty rows with 0"
   ]
  },
  {
   "cell_type": "code",
   "execution_count": 30,
   "id": "18b60766",
   "metadata": {},
   "outputs": [],
   "source": [
    "df[\"Sub_metering_1\"] = df[\"Sub_metering_1\"].fillna(0)"
   ]
  },
  {
   "cell_type": "code",
   "execution_count": 31,
   "id": "d32fbd33",
   "metadata": {},
   "outputs": [],
   "source": [
    "df[\"Sub_metering_2\"] = df[\"Sub_metering_2\"].fillna(0)"
   ]
  },
  {
   "cell_type": "code",
   "execution_count": 32,
   "id": "0753d738",
   "metadata": {},
   "outputs": [],
   "source": [
    "df[\"Sub_metering_3\"] = df[\"Sub_metering_3\"].fillna(0)"
   ]
  },
  {
   "cell_type": "markdown",
   "id": "e015f3ff",
   "metadata": {},
   "source": [
    "Now check the datatype of the column"
   ]
  },
  {
   "cell_type": "code",
   "execution_count": 33,
   "id": "add078d4",
   "metadata": {},
   "outputs": [
    {
     "name": "stdout",
     "output_type": "stream",
     "text": [
      "<class 'pandas.core.frame.DataFrame'>\n",
      "RangeIndex: 1048575 entries, 0 to 1048574\n",
      "Data columns (total 9 columns):\n",
      " #   Column                 Non-Null Count    Dtype  \n",
      "---  ------                 --------------    -----  \n",
      " 0   Date                   1048575 non-null  object \n",
      " 1   Time                   1048575 non-null  object \n",
      " 2   Global_active_power    1048575 non-null  object \n",
      " 3   Global_reactive_power  1048575 non-null  object \n",
      " 4   Voltage                1048575 non-null  object \n",
      " 5   Global_intensity       1048575 non-null  object \n",
      " 6   Sub_metering_1         1048575 non-null  float64\n",
      " 7   Sub_metering_2         1048575 non-null  float64\n",
      " 8   Sub_metering_3         1048575 non-null  float64\n",
      "dtypes: float64(3), object(6)\n",
      "memory usage: 72.0+ MB\n"
     ]
    }
   ],
   "source": [
    "df.info()"
   ]
  },
  {
   "cell_type": "markdown",
   "id": "94341fa8",
   "metadata": {},
   "source": [
    "Now creating a new column Total_Submetering which is equal to the addition of Sub_metering_1, Sub_metering_2, Sub_metering_3"
   ]
  },
  {
   "cell_type": "code",
   "execution_count": 34,
   "id": "1fcad580",
   "metadata": {},
   "outputs": [],
   "source": [
    "df[\"Total_Submetering\"] = (df[\"Sub_metering_1\"] + df[\"Sub_metering_2\"] + df[\"Sub_metering_3\"])"
   ]
  },
  {
   "cell_type": "code",
   "execution_count": 35,
   "id": "cdd5678d",
   "metadata": {},
   "outputs": [
    {
     "data": {
      "text/plain": [
       "array([17., 16., 18.,  9.,  0.,  5., 19., 10., 20.,  8.,  4.,  2.,  3.,\n",
       "       11., 13.,  6., 15., 12.,  1., 14.,  7., 23., 25., 26., 28., 27.,\n",
       "       21., 22., 29., 24., 30., 31.])"
      ]
     },
     "execution_count": 35,
     "metadata": {},
     "output_type": "execute_result"
    }
   ],
   "source": [
    "df[\"Total_Submetering\"].unique()"
   ]
  },
  {
   "cell_type": "code",
   "execution_count": 36,
   "id": "6deb9dec",
   "metadata": {},
   "outputs": [
    {
     "data": {
      "text/html": [
       "<div>\n",
       "<style scoped>\n",
       "    .dataframe tbody tr th:only-of-type {\n",
       "        vertical-align: middle;\n",
       "    }\n",
       "\n",
       "    .dataframe tbody tr th {\n",
       "        vertical-align: top;\n",
       "    }\n",
       "\n",
       "    .dataframe thead th {\n",
       "        text-align: right;\n",
       "    }\n",
       "</style>\n",
       "<table border=\"1\" class=\"dataframe\">\n",
       "  <thead>\n",
       "    <tr style=\"text-align: right;\">\n",
       "      <th></th>\n",
       "      <th>Date</th>\n",
       "      <th>Time</th>\n",
       "      <th>Global_active_power</th>\n",
       "      <th>Global_reactive_power</th>\n",
       "      <th>Voltage</th>\n",
       "      <th>Global_intensity</th>\n",
       "      <th>Sub_metering_1</th>\n",
       "      <th>Sub_metering_2</th>\n",
       "      <th>Sub_metering_3</th>\n",
       "      <th>Total_Submetering</th>\n",
       "    </tr>\n",
       "  </thead>\n",
       "  <tbody>\n",
       "    <tr>\n",
       "      <th>0</th>\n",
       "      <td>16/12/2006</td>\n",
       "      <td>17:24:00</td>\n",
       "      <td>4.216</td>\n",
       "      <td>0.418</td>\n",
       "      <td>234.84</td>\n",
       "      <td>18.4</td>\n",
       "      <td>0.0</td>\n",
       "      <td>0.0</td>\n",
       "      <td>17.0</td>\n",
       "      <td>17.0</td>\n",
       "    </tr>\n",
       "    <tr>\n",
       "      <th>1</th>\n",
       "      <td>16/12/2006</td>\n",
       "      <td>17:25:00</td>\n",
       "      <td>5.36</td>\n",
       "      <td>0.436</td>\n",
       "      <td>233.63</td>\n",
       "      <td>23</td>\n",
       "      <td>0.0</td>\n",
       "      <td>0.0</td>\n",
       "      <td>16.0</td>\n",
       "      <td>16.0</td>\n",
       "    </tr>\n",
       "    <tr>\n",
       "      <th>2</th>\n",
       "      <td>16/12/2006</td>\n",
       "      <td>17:26:00</td>\n",
       "      <td>5.374</td>\n",
       "      <td>0.498</td>\n",
       "      <td>233.29</td>\n",
       "      <td>23</td>\n",
       "      <td>0.0</td>\n",
       "      <td>0.0</td>\n",
       "      <td>17.0</td>\n",
       "      <td>17.0</td>\n",
       "    </tr>\n",
       "    <tr>\n",
       "      <th>3</th>\n",
       "      <td>16/12/2006</td>\n",
       "      <td>17:27:00</td>\n",
       "      <td>5.388</td>\n",
       "      <td>0.502</td>\n",
       "      <td>233.74</td>\n",
       "      <td>23</td>\n",
       "      <td>0.0</td>\n",
       "      <td>0.0</td>\n",
       "      <td>17.0</td>\n",
       "      <td>17.0</td>\n",
       "    </tr>\n",
       "    <tr>\n",
       "      <th>4</th>\n",
       "      <td>16/12/2006</td>\n",
       "      <td>17:28:00</td>\n",
       "      <td>3.666</td>\n",
       "      <td>0.528</td>\n",
       "      <td>235.68</td>\n",
       "      <td>15.8</td>\n",
       "      <td>0.0</td>\n",
       "      <td>0.0</td>\n",
       "      <td>17.0</td>\n",
       "      <td>17.0</td>\n",
       "    </tr>\n",
       "  </tbody>\n",
       "</table>\n",
       "</div>"
      ],
      "text/plain": [
       "         Date      Time Global_active_power Global_reactive_power Voltage  \\\n",
       "0  16/12/2006  17:24:00               4.216                 0.418  234.84   \n",
       "1  16/12/2006  17:25:00                5.36                 0.436  233.63   \n",
       "2  16/12/2006  17:26:00               5.374                 0.498  233.29   \n",
       "3  16/12/2006  17:27:00               5.388                 0.502  233.74   \n",
       "4  16/12/2006  17:28:00               3.666                 0.528  235.68   \n",
       "\n",
       "  Global_intensity  Sub_metering_1  Sub_metering_2  Sub_metering_3  \\\n",
       "0             18.4             0.0             0.0            17.0   \n",
       "1               23             0.0             0.0            16.0   \n",
       "2               23             0.0             0.0            17.0   \n",
       "3               23             0.0             0.0            17.0   \n",
       "4             15.8             0.0             0.0            17.0   \n",
       "\n",
       "   Total_Submetering  \n",
       "0               17.0  \n",
       "1               16.0  \n",
       "2               17.0  \n",
       "3               17.0  \n",
       "4               17.0  "
      ]
     },
     "execution_count": 36,
     "metadata": {},
     "output_type": "execute_result"
    }
   ],
   "source": [
    "df.head()"
   ]
  },
  {
   "cell_type": "markdown",
   "id": "a47effdc",
   "metadata": {},
   "source": [
    "# 6. What are the summary statistics (mean, median, min, max, standard deviation) for global_active_power, global_reactive_power, voltage, and global_intensity?"
   ]
  },
  {
   "cell_type": "code",
   "execution_count": 37,
   "id": "bbc1033a",
   "metadata": {},
   "outputs": [
    {
     "data": {
      "text/html": [
       "<div>\n",
       "<style scoped>\n",
       "    .dataframe tbody tr th:only-of-type {\n",
       "        vertical-align: middle;\n",
       "    }\n",
       "\n",
       "    .dataframe tbody tr th {\n",
       "        vertical-align: top;\n",
       "    }\n",
       "\n",
       "    .dataframe thead th {\n",
       "        text-align: right;\n",
       "    }\n",
       "</style>\n",
       "<table border=\"1\" class=\"dataframe\">\n",
       "  <thead>\n",
       "    <tr style=\"text-align: right;\">\n",
       "      <th></th>\n",
       "      <th>Date</th>\n",
       "      <th>Time</th>\n",
       "      <th>Global_active_power</th>\n",
       "      <th>Global_reactive_power</th>\n",
       "      <th>Voltage</th>\n",
       "      <th>Global_intensity</th>\n",
       "      <th>Sub_metering_1</th>\n",
       "      <th>Sub_metering_2</th>\n",
       "      <th>Sub_metering_3</th>\n",
       "      <th>Total_Submetering</th>\n",
       "    </tr>\n",
       "  </thead>\n",
       "  <tbody>\n",
       "    <tr>\n",
       "      <th>0</th>\n",
       "      <td>16/12/2006</td>\n",
       "      <td>17:24:00</td>\n",
       "      <td>4.216</td>\n",
       "      <td>0.418</td>\n",
       "      <td>234.84</td>\n",
       "      <td>18.4</td>\n",
       "      <td>0.0</td>\n",
       "      <td>0.0</td>\n",
       "      <td>17.0</td>\n",
       "      <td>17.0</td>\n",
       "    </tr>\n",
       "    <tr>\n",
       "      <th>1</th>\n",
       "      <td>16/12/2006</td>\n",
       "      <td>17:25:00</td>\n",
       "      <td>5.36</td>\n",
       "      <td>0.436</td>\n",
       "      <td>233.63</td>\n",
       "      <td>23</td>\n",
       "      <td>0.0</td>\n",
       "      <td>0.0</td>\n",
       "      <td>16.0</td>\n",
       "      <td>16.0</td>\n",
       "    </tr>\n",
       "    <tr>\n",
       "      <th>2</th>\n",
       "      <td>16/12/2006</td>\n",
       "      <td>17:26:00</td>\n",
       "      <td>5.374</td>\n",
       "      <td>0.498</td>\n",
       "      <td>233.29</td>\n",
       "      <td>23</td>\n",
       "      <td>0.0</td>\n",
       "      <td>0.0</td>\n",
       "      <td>17.0</td>\n",
       "      <td>17.0</td>\n",
       "    </tr>\n",
       "    <tr>\n",
       "      <th>3</th>\n",
       "      <td>16/12/2006</td>\n",
       "      <td>17:27:00</td>\n",
       "      <td>5.388</td>\n",
       "      <td>0.502</td>\n",
       "      <td>233.74</td>\n",
       "      <td>23</td>\n",
       "      <td>0.0</td>\n",
       "      <td>0.0</td>\n",
       "      <td>17.0</td>\n",
       "      <td>17.0</td>\n",
       "    </tr>\n",
       "    <tr>\n",
       "      <th>4</th>\n",
       "      <td>16/12/2006</td>\n",
       "      <td>17:28:00</td>\n",
       "      <td>3.666</td>\n",
       "      <td>0.528</td>\n",
       "      <td>235.68</td>\n",
       "      <td>15.8</td>\n",
       "      <td>0.0</td>\n",
       "      <td>0.0</td>\n",
       "      <td>17.0</td>\n",
       "      <td>17.0</td>\n",
       "    </tr>\n",
       "  </tbody>\n",
       "</table>\n",
       "</div>"
      ],
      "text/plain": [
       "         Date      Time Global_active_power Global_reactive_power Voltage  \\\n",
       "0  16/12/2006  17:24:00               4.216                 0.418  234.84   \n",
       "1  16/12/2006  17:25:00                5.36                 0.436  233.63   \n",
       "2  16/12/2006  17:26:00               5.374                 0.498  233.29   \n",
       "3  16/12/2006  17:27:00               5.388                 0.502  233.74   \n",
       "4  16/12/2006  17:28:00               3.666                 0.528  235.68   \n",
       "\n",
       "  Global_intensity  Sub_metering_1  Sub_metering_2  Sub_metering_3  \\\n",
       "0             18.4             0.0             0.0            17.0   \n",
       "1               23             0.0             0.0            16.0   \n",
       "2               23             0.0             0.0            17.0   \n",
       "3               23             0.0             0.0            17.0   \n",
       "4             15.8             0.0             0.0            17.0   \n",
       "\n",
       "   Total_Submetering  \n",
       "0               17.0  \n",
       "1               16.0  \n",
       "2               17.0  \n",
       "3               17.0  \n",
       "4               17.0  "
      ]
     },
     "execution_count": 37,
     "metadata": {},
     "output_type": "execute_result"
    }
   ],
   "source": [
    "df.head()"
   ]
  },
  {
   "cell_type": "code",
   "execution_count": 38,
   "id": "3bc3afb8",
   "metadata": {},
   "outputs": [],
   "source": [
    "df[\"Global_active_power\"].replace(\"?\", pd.NA, inplace=True)"
   ]
  },
  {
   "cell_type": "code",
   "execution_count": 39,
   "id": "ee95f21c",
   "metadata": {},
   "outputs": [],
   "source": [
    "df[\"Global_reactive_power\"].replace(\"?\", pd.NA, inplace=True)"
   ]
  },
  {
   "cell_type": "code",
   "execution_count": 40,
   "id": "77ecbc9a",
   "metadata": {},
   "outputs": [],
   "source": [
    "df[\"Voltage\"].replace(\"?\", pd.NA, inplace=True)"
   ]
  },
  {
   "cell_type": "code",
   "execution_count": 41,
   "id": "06cb5a09",
   "metadata": {},
   "outputs": [],
   "source": [
    "df[\"Global_intensity\"].replace(\"?\", pd.NA, inplace=True)"
   ]
  },
  {
   "cell_type": "markdown",
   "id": "e043cac5",
   "metadata": {},
   "source": []
  },
  {
   "cell_type": "code",
   "execution_count": 42,
   "id": "7795dac9",
   "metadata": {},
   "outputs": [
    {
     "data": {
      "text/plain": [
       "0          4.216\n",
       "1           5.36\n",
       "2          5.374\n",
       "3          5.388\n",
       "4          3.666\n",
       "           ...  \n",
       "1048570    0.426\n",
       "1048571    0.424\n",
       "1048572    0.422\n",
       "1048573    0.422\n",
       "1048574    0.422\n",
       "Name: Global_active_power, Length: 1048575, dtype: object"
      ]
     },
     "execution_count": 42,
     "metadata": {},
     "output_type": "execute_result"
    }
   ],
   "source": [
    "df[\"Global_active_power\"].fillna(0)"
   ]
  },
  {
   "cell_type": "code",
   "execution_count": 43,
   "id": "04735fb2",
   "metadata": {},
   "outputs": [
    {
     "data": {
      "text/plain": [
       "0          0.418\n",
       "1          0.436\n",
       "2          0.498\n",
       "3          0.502\n",
       "4          0.528\n",
       "           ...  \n",
       "1048570    0.076\n",
       "1048571    0.076\n",
       "1048572    0.076\n",
       "1048573    0.078\n",
       "1048574    0.078\n",
       "Name: Global_reactive_power, Length: 1048575, dtype: object"
      ]
     },
     "execution_count": 43,
     "metadata": {},
     "output_type": "execute_result"
    }
   ],
   "source": [
    "df[\"Global_reactive_power\"].fillna(0)"
   ]
  },
  {
   "cell_type": "code",
   "execution_count": 44,
   "id": "46a8dfd8",
   "metadata": {},
   "outputs": [
    {
     "data": {
      "text/plain": [
       "0          234.84\n",
       "1          233.63\n",
       "2          233.29\n",
       "3          233.74\n",
       "4          235.68\n",
       "            ...  \n",
       "1048570    242.27\n",
       "1048571     242.1\n",
       "1048572    241.73\n",
       "1048573    242.56\n",
       "1048574    242.61\n",
       "Name: Voltage, Length: 1048575, dtype: object"
      ]
     },
     "execution_count": 44,
     "metadata": {},
     "output_type": "execute_result"
    }
   ],
   "source": [
    "df[\"Voltage\"].fillna(0)"
   ]
  },
  {
   "cell_type": "code",
   "execution_count": 45,
   "id": "5236522b",
   "metadata": {},
   "outputs": [
    {
     "data": {
      "text/plain": [
       "0          18.4\n",
       "1            23\n",
       "2            23\n",
       "3            23\n",
       "4          15.8\n",
       "           ... \n",
       "1048570     1.8\n",
       "1048571     1.8\n",
       "1048572     1.8\n",
       "1048573     1.8\n",
       "1048574     1.8\n",
       "Name: Global_intensity, Length: 1048575, dtype: object"
      ]
     },
     "execution_count": 45,
     "metadata": {},
     "output_type": "execute_result"
    }
   ],
   "source": [
    "df[\"Global_intensity\"].fillna(0)"
   ]
  },
  {
   "cell_type": "code",
   "execution_count": 46,
   "id": "e9bf333a",
   "metadata": {},
   "outputs": [],
   "source": [
    "for col in [\"Global_active_power\", \"Global_reactive_power\", \"Voltage\", \"Global_intensity\"]:\n",
    "    df[col] = pd.to_numeric(df[col].replace({pd.NA: np.nan}), errors=\"coerce\").fillna(0)"
   ]
  },
  {
   "cell_type": "code",
   "execution_count": 47,
   "id": "cd996a00",
   "metadata": {},
   "outputs": [
    {
     "name": "stdout",
     "output_type": "stream",
     "text": [
      "<class 'pandas.core.frame.DataFrame'>\n",
      "RangeIndex: 1048575 entries, 0 to 1048574\n",
      "Data columns (total 10 columns):\n",
      " #   Column                 Non-Null Count    Dtype  \n",
      "---  ------                 --------------    -----  \n",
      " 0   Date                   1048575 non-null  object \n",
      " 1   Time                   1048575 non-null  object \n",
      " 2   Global_active_power    1048575 non-null  float64\n",
      " 3   Global_reactive_power  1048575 non-null  float64\n",
      " 4   Voltage                1048575 non-null  float64\n",
      " 5   Global_intensity       1048575 non-null  float64\n",
      " 6   Sub_metering_1         1048575 non-null  float64\n",
      " 7   Sub_metering_2         1048575 non-null  float64\n",
      " 8   Sub_metering_3         1048575 non-null  float64\n",
      " 9   Total_Submetering      1048575 non-null  float64\n",
      "dtypes: float64(8), object(2)\n",
      "memory usage: 80.0+ MB\n"
     ]
    }
   ],
   "source": [
    "df.info()"
   ]
  },
  {
   "cell_type": "code",
   "execution_count": 48,
   "id": "70f989a8",
   "metadata": {},
   "outputs": [
    {
     "data": {
      "text/html": [
       "<div>\n",
       "<style scoped>\n",
       "    .dataframe tbody tr th:only-of-type {\n",
       "        vertical-align: middle;\n",
       "    }\n",
       "\n",
       "    .dataframe tbody tr th {\n",
       "        vertical-align: top;\n",
       "    }\n",
       "\n",
       "    .dataframe thead th {\n",
       "        text-align: right;\n",
       "    }\n",
       "</style>\n",
       "<table border=\"1\" class=\"dataframe\">\n",
       "  <thead>\n",
       "    <tr style=\"text-align: right;\">\n",
       "      <th></th>\n",
       "      <th>Global_active_power</th>\n",
       "      <th>Global_reactive_power</th>\n",
       "      <th>Voltage</th>\n",
       "      <th>Global_intensity</th>\n",
       "    </tr>\n",
       "  </thead>\n",
       "  <tbody>\n",
       "    <tr>\n",
       "      <th>count</th>\n",
       "      <td>1.048575e+06</td>\n",
       "      <td>1.048575e+06</td>\n",
       "      <td>1.048575e+06</td>\n",
       "      <td>1.048575e+06</td>\n",
       "    </tr>\n",
       "    <tr>\n",
       "      <th>mean</th>\n",
       "      <td>1.103902e+00</td>\n",
       "      <td>1.178142e-01</td>\n",
       "      <td>2.390286e+02</td>\n",
       "      <td>4.699814e+00</td>\n",
       "    </tr>\n",
       "    <tr>\n",
       "      <th>std</th>\n",
       "      <td>1.129456e+00</td>\n",
       "      <td>1.095406e-01</td>\n",
       "      <td>1.527486e+01</td>\n",
       "      <td>4.763377e+00</td>\n",
       "    </tr>\n",
       "    <tr>\n",
       "      <th>min</th>\n",
       "      <td>0.000000e+00</td>\n",
       "      <td>0.000000e+00</td>\n",
       "      <td>0.000000e+00</td>\n",
       "      <td>0.000000e+00</td>\n",
       "    </tr>\n",
       "    <tr>\n",
       "      <th>25%</th>\n",
       "      <td>2.860000e-01</td>\n",
       "      <td>0.000000e+00</td>\n",
       "      <td>2.379300e+02</td>\n",
       "      <td>1.200000e+00</td>\n",
       "    </tr>\n",
       "    <tr>\n",
       "      <th>50%</th>\n",
       "      <td>5.420000e-01</td>\n",
       "      <td>9.800000e-02</td>\n",
       "      <td>2.402000e+02</td>\n",
       "      <td>2.400000e+00</td>\n",
       "    </tr>\n",
       "    <tr>\n",
       "      <th>75%</th>\n",
       "      <td>1.542000e+00</td>\n",
       "      <td>1.860000e-01</td>\n",
       "      <td>2.421400e+02</td>\n",
       "      <td>6.400000e+00</td>\n",
       "    </tr>\n",
       "    <tr>\n",
       "      <th>max</th>\n",
       "      <td>1.067000e+01</td>\n",
       "      <td>1.390000e+00</td>\n",
       "      <td>2.521400e+02</td>\n",
       "      <td>4.640000e+01</td>\n",
       "    </tr>\n",
       "  </tbody>\n",
       "</table>\n",
       "</div>"
      ],
      "text/plain": [
       "       Global_active_power  Global_reactive_power       Voltage  \\\n",
       "count         1.048575e+06           1.048575e+06  1.048575e+06   \n",
       "mean          1.103902e+00           1.178142e-01  2.390286e+02   \n",
       "std           1.129456e+00           1.095406e-01  1.527486e+01   \n",
       "min           0.000000e+00           0.000000e+00  0.000000e+00   \n",
       "25%           2.860000e-01           0.000000e+00  2.379300e+02   \n",
       "50%           5.420000e-01           9.800000e-02  2.402000e+02   \n",
       "75%           1.542000e+00           1.860000e-01  2.421400e+02   \n",
       "max           1.067000e+01           1.390000e+00  2.521400e+02   \n",
       "\n",
       "       Global_intensity  \n",
       "count      1.048575e+06  \n",
       "mean       4.699814e+00  \n",
       "std        4.763377e+00  \n",
       "min        0.000000e+00  \n",
       "25%        1.200000e+00  \n",
       "50%        2.400000e+00  \n",
       "75%        6.400000e+00  \n",
       "max        4.640000e+01  "
      ]
     },
     "execution_count": 48,
     "metadata": {},
     "output_type": "execute_result"
    }
   ],
   "source": [
    "df[[\"Global_active_power\", \"Global_reactive_power\", \"Voltage\", \"Global_intensity\"]].describe()"
   ]
  },
  {
   "cell_type": "markdown",
   "id": "946e5278",
   "metadata": {},
   "source": [
    "# 7. What is the mean and standard deviation of the Total_Submetering column?"
   ]
  },
  {
   "cell_type": "code",
   "execution_count": 51,
   "id": "c65aee21",
   "metadata": {},
   "outputs": [
    {
     "name": "stdout",
     "output_type": "stream",
     "text": [
      "Mean: 5.91081038552321\n",
      "Standard Deviation: 8.202752466613676\n"
     ]
    }
   ],
   "source": [
    "print(f'Mean: {df['Total_Submetering'].mean()}')\n",
    "print(f'Standard Deviation: {df['Total_Submetering'].std()}')"
   ]
  },
  {
   "cell_type": "markdown",
   "id": "bbdf769b",
   "metadata": {},
   "source": [
    "# 8. What is the distribution of voltage in the dataset? (e.g., histogram or KDE plot)"
   ]
  },
  {
   "cell_type": "code",
   "execution_count": null,
   "id": "46d05a79",
   "metadata": {},
   "outputs": [
    {
     "data": {
      "text/plain": [
       "count    1.048575e+06\n",
       "mean     2.390286e+02\n",
       "std      1.527486e+01\n",
       "min      0.000000e+00\n",
       "25%      2.379300e+02\n",
       "50%      2.402000e+02\n",
       "75%      2.421400e+02\n",
       "max      2.521400e+02\n",
       "Name: Voltage, dtype: float64"
      ]
     },
     "execution_count": 51,
     "metadata": {},
     "output_type": "execute_result"
    }
   ],
   "source": [
    "# Voltage Distribution\n",
    "df[\"Voltage\"].describe()"
   ]
  },
  {
   "cell_type": "code",
   "execution_count": 57,
   "id": "ba7df0ca",
   "metadata": {},
   "outputs": [
    {
     "data": {
      "image/png": "[encoded data removed]",
      "text/plain": [
       "<Figure size 1000x500 with 1 Axes>"
      ]
     },
     "metadata": {},
     "output_type": "display_data"
    }
   ],
   "source": [
    "plt.figure(figsize=(10,5))\n",
    "plt.hist(df['Voltage'], bins=50, edgecolor='black', color='hotpink')\n",
    "plt.title('Distribution of Voltage')\n",
    "plt.xlabel('Voltage')\n",
    "plt.ylabel('No of Houses')\n",
    "# plt.grid()\n",
    "plt.show()"
   ]
  },
  {
   "cell_type": "code",
   "execution_count": 53,
   "id": "11c241c8",
   "metadata": {},
   "outputs": [
    {
     "data": {
      "text/plain": [
       "[]"
      ]
     },
     "execution_count": 53,
     "metadata": {},
     "output_type": "execute_result"
    },
    {
     "data": {
      "image/png": "[encoded data removed]",
      "text/plain": [
       "<Figure size 640x480 with 1 Axes>"
      ]
     },
     "metadata": {},
     "output_type": "display_data"
    }
   ],
   "source": [
    "# b) By using kdeplot\n",
    "sns.kdeplot(df['Voltage'])\n",
    "plt.plot()"
   ]
  },
  {
   "cell_type": "markdown",
   "id": "a92ccabd",
   "metadata": {},
   "source": [
    "# 9. What is the correlation between global_active_power and global_intensity?"
   ]
  },
  {
   "cell_type": "code",
   "execution_count": null,
   "id": "3815917a",
   "metadata": {},
   "outputs": [
    {
     "data": {
      "text/plain": [
       "np.float64(0.9990231149749013)"
      ]
     },
     "execution_count": 54,
     "metadata": {},
     "output_type": "execute_result"
    }
   ],
   "source": [
    "df[\"Global_active_power\"].corr(df[\"Global_intensity\"])"
   ]
  },
  {
   "cell_type": "code",
   "execution_count": 58,
   "id": "115bd65b",
   "metadata": {},
   "outputs": [
    {
     "data": {
      "text/plain": [
       "Global_active_power    0.999023\n",
       "dtype: float64"
      ]
     },
     "execution_count": 58,
     "metadata": {},
     "output_type": "execute_result"
    }
   ],
   "source": [
    "df[['Global_active_power']].corrwith(df['Global_intensity'])\n",
    "# Here I have taken nested bracket because the corrwith attribute only comes with dataframe and not series."
   ]
  },
  {
   "cell_type": "code",
   "execution_count": null,
   "id": "2387ecf1",
   "metadata": {},
   "outputs": [
    {
     "data": {
      "image/png": "[encoded data removed]",
      "text/plain": [
       "<Figure size 640x480 with 2 Axes>"
      ]
     },
     "metadata": {},
     "output_type": "display_data"
    }
   ],
   "source": [
    "# Showing correlation using heatmap\n",
    "corr = df[[\"Global_active_power\", \"Global_intensity\"]].corr()\n",
    "sns.heatmap(corr, annot=True, cmap=\"coolwarm\")\n",
    "plt.title(\"Correlation Between Global_active_power and Global_intensity\")\n",
    "plt.show()"
   ]
  },
  {
   "cell_type": "markdown",
   "id": "f6045623",
   "metadata": {},
   "source": [
    "# 10. How does global_active_power vary with voltage?"
   ]
  },
  {
   "cell_type": "markdown",
   "id": "4dc2f900",
   "metadata": {},
   "source": [
    "* Close to 1 → strong positive relation\n",
    "\n",
    "* Close to -1 → strong negative relation\n",
    "\n",
    "* Close to 0 → weak or no linear relation"
   ]
  },
  {
   "cell_type": "code",
   "execution_count": 59,
   "id": "45be846b",
   "metadata": {},
   "outputs": [
    {
     "data": {
      "text/plain": [
       "np.float64(-0.02631375257318009)"
      ]
     },
     "execution_count": 59,
     "metadata": {},
     "output_type": "execute_result"
    }
   ],
   "source": [
    "df['Global_active_power'].corr(df['Voltage'])\n",
    "# Ans. As co-relation between them is negative, therefore, as value of voltage increases the value of global active power decreases"
   ]
  },
  {
   "cell_type": "code",
   "execution_count": null,
   "id": "a683b392",
   "metadata": {},
   "outputs": [
    {
     "data": {
      "image/png": "[encoded data removed]",
      "text/plain": [
       "<Figure size 640x480 with 2 Axes>"
      ]
     },
     "metadata": {},
     "output_type": "display_data"
    }
   ],
   "source": [
    "# Using correlation \n",
    "corr = df[[\"Global_active_power\", \"Voltage\"]].corr()\n",
    "sns.heatmap(corr, annot=True, cmap=\"coolwarm\")\n",
    "plt.title(\"Correlation Between Global_active_power and Voltage\")\n",
    "plt.show()"
   ]
  },
  {
   "cell_type": "markdown",
   "id": "5330aa73",
   "metadata": {},
   "source": [
    "# 11. What are the minimum and maximum values of global_active_power, and at what times did they occur?\n"
   ]
  },
  {
   "cell_type": "code",
   "execution_count": 69,
   "id": "eaed1863",
   "metadata": {},
   "outputs": [
    {
     "data": {
      "text/plain": [
       "(np.float64(0.0), np.float64(10.67))"
      ]
     },
     "execution_count": 69,
     "metadata": {},
     "output_type": "execute_result"
    }
   ],
   "source": [
    "df['Global_active_power'].min(), df['Global_active_power'].max()"
   ]
  },
  {
   "cell_type": "code",
   "execution_count": 70,
   "id": "5a6ff198",
   "metadata": {},
   "outputs": [
    {
     "data": {
      "text/html": [
       "<div>\n",
       "<style scoped>\n",
       "    .dataframe tbody tr th:only-of-type {\n",
       "        vertical-align: middle;\n",
       "    }\n",
       "\n",
       "    .dataframe tbody tr th {\n",
       "        vertical-align: top;\n",
       "    }\n",
       "\n",
       "    .dataframe thead th {\n",
       "        text-align: right;\n",
       "    }\n",
       "</style>\n",
       "<table border=\"1\" class=\"dataframe\">\n",
       "  <thead>\n",
       "    <tr style=\"text-align: right;\">\n",
       "      <th></th>\n",
       "      <th>Date</th>\n",
       "      <th>Time</th>\n",
       "      <th>Global_active_power</th>\n",
       "      <th>Global_reactive_power</th>\n",
       "      <th>Voltage</th>\n",
       "      <th>Global_intensity</th>\n",
       "      <th>Sub_metering_1</th>\n",
       "      <th>Sub_metering_2</th>\n",
       "      <th>Sub_metering_3</th>\n",
       "      <th>Total_Submetering</th>\n",
       "    </tr>\n",
       "  </thead>\n",
       "  <tbody>\n",
       "    <tr>\n",
       "      <th>6839</th>\n",
       "      <td>21/12/2006</td>\n",
       "      <td>11:23:00</td>\n",
       "      <td>0.0</td>\n",
       "      <td>0.0</td>\n",
       "      <td>0.0</td>\n",
       "      <td>0.0</td>\n",
       "      <td>0.0</td>\n",
       "      <td>0.0</td>\n",
       "      <td>0.0</td>\n",
       "      <td>0.0</td>\n",
       "    </tr>\n",
       "    <tr>\n",
       "      <th>6840</th>\n",
       "      <td>21/12/2006</td>\n",
       "      <td>11:24:00</td>\n",
       "      <td>0.0</td>\n",
       "      <td>0.0</td>\n",
       "      <td>0.0</td>\n",
       "      <td>0.0</td>\n",
       "      <td>0.0</td>\n",
       "      <td>0.0</td>\n",
       "      <td>0.0</td>\n",
       "      <td>0.0</td>\n",
       "    </tr>\n",
       "    <tr>\n",
       "      <th>19724</th>\n",
       "      <td>30/12/2006</td>\n",
       "      <td>10:08:00</td>\n",
       "      <td>0.0</td>\n",
       "      <td>0.0</td>\n",
       "      <td>0.0</td>\n",
       "      <td>0.0</td>\n",
       "      <td>0.0</td>\n",
       "      <td>0.0</td>\n",
       "      <td>0.0</td>\n",
       "      <td>0.0</td>\n",
       "    </tr>\n",
       "    <tr>\n",
       "      <th>19725</th>\n",
       "      <td>30/12/2006</td>\n",
       "      <td>10:09:00</td>\n",
       "      <td>0.0</td>\n",
       "      <td>0.0</td>\n",
       "      <td>0.0</td>\n",
       "      <td>0.0</td>\n",
       "      <td>0.0</td>\n",
       "      <td>0.0</td>\n",
       "      <td>0.0</td>\n",
       "      <td>0.0</td>\n",
       "    </tr>\n",
       "    <tr>\n",
       "      <th>41832</th>\n",
       "      <td>14/1/2007</td>\n",
       "      <td>18:36:00</td>\n",
       "      <td>0.0</td>\n",
       "      <td>0.0</td>\n",
       "      <td>0.0</td>\n",
       "      <td>0.0</td>\n",
       "      <td>0.0</td>\n",
       "      <td>0.0</td>\n",
       "      <td>0.0</td>\n",
       "      <td>0.0</td>\n",
       "    </tr>\n",
       "    <tr>\n",
       "      <th>...</th>\n",
       "      <td>...</td>\n",
       "      <td>...</td>\n",
       "      <td>...</td>\n",
       "      <td>...</td>\n",
       "      <td>...</td>\n",
       "      <td>...</td>\n",
       "      <td>...</td>\n",
       "      <td>...</td>\n",
       "      <td>...</td>\n",
       "      <td>...</td>\n",
       "    </tr>\n",
       "    <tr>\n",
       "      <th>1043669</th>\n",
       "      <td>10/12/2008</td>\n",
       "      <td>11:53:00</td>\n",
       "      <td>0.0</td>\n",
       "      <td>0.0</td>\n",
       "      <td>0.0</td>\n",
       "      <td>0.0</td>\n",
       "      <td>0.0</td>\n",
       "      <td>0.0</td>\n",
       "      <td>0.0</td>\n",
       "      <td>0.0</td>\n",
       "    </tr>\n",
       "    <tr>\n",
       "      <th>1043670</th>\n",
       "      <td>10/12/2008</td>\n",
       "      <td>11:54:00</td>\n",
       "      <td>0.0</td>\n",
       "      <td>0.0</td>\n",
       "      <td>0.0</td>\n",
       "      <td>0.0</td>\n",
       "      <td>0.0</td>\n",
       "      <td>0.0</td>\n",
       "      <td>0.0</td>\n",
       "      <td>0.0</td>\n",
       "    </tr>\n",
       "    <tr>\n",
       "      <th>1043671</th>\n",
       "      <td>10/12/2008</td>\n",
       "      <td>11:55:00</td>\n",
       "      <td>0.0</td>\n",
       "      <td>0.0</td>\n",
       "      <td>0.0</td>\n",
       "      <td>0.0</td>\n",
       "      <td>0.0</td>\n",
       "      <td>0.0</td>\n",
       "      <td>0.0</td>\n",
       "      <td>0.0</td>\n",
       "    </tr>\n",
       "    <tr>\n",
       "      <th>1043672</th>\n",
       "      <td>10/12/2008</td>\n",
       "      <td>11:56:00</td>\n",
       "      <td>0.0</td>\n",
       "      <td>0.0</td>\n",
       "      <td>0.0</td>\n",
       "      <td>0.0</td>\n",
       "      <td>0.0</td>\n",
       "      <td>0.0</td>\n",
       "      <td>0.0</td>\n",
       "      <td>0.0</td>\n",
       "    </tr>\n",
       "    <tr>\n",
       "      <th>1043673</th>\n",
       "      <td>10/12/2008</td>\n",
       "      <td>11:57:00</td>\n",
       "      <td>0.0</td>\n",
       "      <td>0.0</td>\n",
       "      <td>0.0</td>\n",
       "      <td>0.0</td>\n",
       "      <td>0.0</td>\n",
       "      <td>0.0</td>\n",
       "      <td>0.0</td>\n",
       "      <td>0.0</td>\n",
       "    </tr>\n",
       "  </tbody>\n",
       "</table>\n",
       "<p>4069 rows × 10 columns</p>\n",
       "</div>"
      ],
      "text/plain": [
       "               Date      Time  Global_active_power  Global_reactive_power  \\\n",
       "6839     21/12/2006  11:23:00                  0.0                    0.0   \n",
       "6840     21/12/2006  11:24:00                  0.0                    0.0   \n",
       "19724    30/12/2006  10:08:00                  0.0                    0.0   \n",
       "19725    30/12/2006  10:09:00                  0.0                    0.0   \n",
       "41832     14/1/2007  18:36:00                  0.0                    0.0   \n",
       "...             ...       ...                  ...                    ...   \n",
       "1043669  10/12/2008  11:53:00                  0.0                    0.0   \n",
       "1043670  10/12/2008  11:54:00                  0.0                    0.0   \n",
       "1043671  10/12/2008  11:55:00                  0.0                    0.0   \n",
       "1043672  10/12/2008  11:56:00                  0.0                    0.0   \n",
       "1043673  10/12/2008  11:57:00                  0.0                    0.0   \n",
       "\n",
       "         Voltage  Global_intensity  Sub_metering_1  Sub_metering_2  \\\n",
       "6839         0.0               0.0             0.0             0.0   \n",
       "6840         0.0               0.0             0.0             0.0   \n",
       "19724        0.0               0.0             0.0             0.0   \n",
       "19725        0.0               0.0             0.0             0.0   \n",
       "41832        0.0               0.0             0.0             0.0   \n",
       "...          ...               ...             ...             ...   \n",
       "1043669      0.0               0.0             0.0             0.0   \n",
       "1043670      0.0               0.0             0.0             0.0   \n",
       "1043671      0.0               0.0             0.0             0.0   \n",
       "1043672      0.0               0.0             0.0             0.0   \n",
       "1043673      0.0               0.0             0.0             0.0   \n",
       "\n",
       "         Sub_metering_3  Total_Submetering  \n",
       "6839                0.0                0.0  \n",
       "6840                0.0                0.0  \n",
       "19724               0.0                0.0  \n",
       "19725               0.0                0.0  \n",
       "41832               0.0                0.0  \n",
       "...                 ...                ...  \n",
       "1043669             0.0                0.0  \n",
       "1043670             0.0                0.0  \n",
       "1043671             0.0                0.0  \n",
       "1043672             0.0                0.0  \n",
       "1043673             0.0                0.0  \n",
       "\n",
       "[4069 rows x 10 columns]"
      ]
     },
     "execution_count": 70,
     "metadata": {},
     "output_type": "execute_result"
    }
   ],
   "source": [
    "df[df['Global_active_power'] == df['Global_active_power'].min()]"
   ]
  },
  {
   "cell_type": "code",
   "execution_count": 71,
   "id": "d82e5f40",
   "metadata": {},
   "outputs": [
    {
     "data": {
      "text/html": [
       "<div>\n",
       "<style scoped>\n",
       "    .dataframe tbody tr th:only-of-type {\n",
       "        vertical-align: middle;\n",
       "    }\n",
       "\n",
       "    .dataframe tbody tr th {\n",
       "        vertical-align: top;\n",
       "    }\n",
       "\n",
       "    .dataframe thead th {\n",
       "        text-align: right;\n",
       "    }\n",
       "</style>\n",
       "<table border=\"1\" class=\"dataframe\">\n",
       "  <thead>\n",
       "    <tr style=\"text-align: right;\">\n",
       "      <th></th>\n",
       "      <th>Date</th>\n",
       "      <th>Time</th>\n",
       "      <th>Global_active_power</th>\n",
       "      <th>Global_reactive_power</th>\n",
       "      <th>Voltage</th>\n",
       "      <th>Global_intensity</th>\n",
       "      <th>Sub_metering_1</th>\n",
       "      <th>Sub_metering_2</th>\n",
       "      <th>Sub_metering_3</th>\n",
       "      <th>Total_Submetering</th>\n",
       "    </tr>\n",
       "  </thead>\n",
       "  <tbody>\n",
       "    <tr>\n",
       "      <th>112450</th>\n",
       "      <td>4/3/2007</td>\n",
       "      <td>19:34:00</td>\n",
       "      <td>10.67</td>\n",
       "      <td>0.516</td>\n",
       "      <td>230.2</td>\n",
       "      <td>46.4</td>\n",
       "      <td>0.0</td>\n",
       "      <td>0.0</td>\n",
       "      <td>16.0</td>\n",
       "      <td>16.0</td>\n",
       "    </tr>\n",
       "  </tbody>\n",
       "</table>\n",
       "</div>"
      ],
      "text/plain": [
       "            Date      Time  Global_active_power  Global_reactive_power  \\\n",
       "112450  4/3/2007  19:34:00                10.67                  0.516   \n",
       "\n",
       "        Voltage  Global_intensity  Sub_metering_1  Sub_metering_2  \\\n",
       "112450    230.2              46.4             0.0             0.0   \n",
       "\n",
       "        Sub_metering_3  Total_Submetering  \n",
       "112450            16.0               16.0  "
      ]
     },
     "execution_count": 71,
     "metadata": {},
     "output_type": "execute_result"
    }
   ],
   "source": [
    "df[df['Global_active_power'] == df['Global_active_power'].max()]"
   ]
  },
  {
   "cell_type": "markdown",
   "id": "c12a2ee7",
   "metadata": {},
   "source": [
    "# 12. How does global_active_power change over different hours of the day? (Hourly trend)"
   ]
  },
  {
   "cell_type": "code",
   "execution_count": null,
   "id": "eeeb63ec",
   "metadata": {},
   "outputs": [
    {
     "data": {
      "text/html": [
       "<div>\n",
       "<style scoped>\n",
       "    .dataframe tbody tr th:only-of-type {\n",
       "        vertical-align: middle;\n",
       "    }\n",
       "\n",
       "    .dataframe tbody tr th {\n",
       "        vertical-align: top;\n",
       "    }\n",
       "\n",
       "    .dataframe thead th {\n",
       "        text-align: right;\n",
       "    }\n",
       "</style>\n",
       "<table border=\"1\" class=\"dataframe\">\n",
       "  <thead>\n",
       "    <tr style=\"text-align: right;\">\n",
       "      <th></th>\n",
       "      <th>Date</th>\n",
       "      <th>Time</th>\n",
       "      <th>Global_active_power</th>\n",
       "      <th>Global_reactive_power</th>\n",
       "      <th>Voltage</th>\n",
       "      <th>Global_intensity</th>\n",
       "      <th>Sub_metering_1</th>\n",
       "      <th>Sub_metering_2</th>\n",
       "      <th>Sub_metering_3</th>\n",
       "      <th>Total_Submetering</th>\n",
       "    </tr>\n",
       "  </thead>\n",
       "  <tbody>\n",
       "    <tr>\n",
       "      <th>0</th>\n",
       "      <td>16/12/2006</td>\n",
       "      <td>17:24:00</td>\n",
       "      <td>4.216</td>\n",
       "      <td>0.418</td>\n",
       "      <td>234.84</td>\n",
       "      <td>18.4</td>\n",
       "      <td>0.0</td>\n",
       "      <td>0.0</td>\n",
       "      <td>17.0</td>\n",
       "      <td>17.0</td>\n",
       "    </tr>\n",
       "    <tr>\n",
       "      <th>1</th>\n",
       "      <td>16/12/2006</td>\n",
       "      <td>17:25:00</td>\n",
       "      <td>5.360</td>\n",
       "      <td>0.436</td>\n",
       "      <td>233.63</td>\n",
       "      <td>23.0</td>\n",
       "      <td>0.0</td>\n",
       "      <td>0.0</td>\n",
       "      <td>16.0</td>\n",
       "      <td>16.0</td>\n",
       "    </tr>\n",
       "    <tr>\n",
       "      <th>2</th>\n",
       "      <td>16/12/2006</td>\n",
       "      <td>17:26:00</td>\n",
       "      <td>5.374</td>\n",
       "      <td>0.498</td>\n",
       "      <td>233.29</td>\n",
       "      <td>23.0</td>\n",
       "      <td>0.0</td>\n",
       "      <td>0.0</td>\n",
       "      <td>17.0</td>\n",
       "      <td>17.0</td>\n",
       "    </tr>\n",
       "    <tr>\n",
       "      <th>3</th>\n",
       "      <td>16/12/2006</td>\n",
       "      <td>17:27:00</td>\n",
       "      <td>5.388</td>\n",
       "      <td>0.502</td>\n",
       "      <td>233.74</td>\n",
       "      <td>23.0</td>\n",
       "      <td>0.0</td>\n",
       "      <td>0.0</td>\n",
       "      <td>17.0</td>\n",
       "      <td>17.0</td>\n",
       "    </tr>\n",
       "    <tr>\n",
       "      <th>4</th>\n",
       "      <td>16/12/2006</td>\n",
       "      <td>17:28:00</td>\n",
       "      <td>3.666</td>\n",
       "      <td>0.528</td>\n",
       "      <td>235.68</td>\n",
       "      <td>15.8</td>\n",
       "      <td>0.0</td>\n",
       "      <td>0.0</td>\n",
       "      <td>17.0</td>\n",
       "      <td>17.0</td>\n",
       "    </tr>\n",
       "  </tbody>\n",
       "</table>\n",
       "</div>"
      ],
      "text/plain": [
       "         Date      Time  Global_active_power  Global_reactive_power  Voltage  \\\n",
       "0  16/12/2006  17:24:00                4.216                  0.418   234.84   \n",
       "1  16/12/2006  17:25:00                5.360                  0.436   233.63   \n",
       "2  16/12/2006  17:26:00                5.374                  0.498   233.29   \n",
       "3  16/12/2006  17:27:00                5.388                  0.502   233.74   \n",
       "4  16/12/2006  17:28:00                3.666                  0.528   235.68   \n",
       "\n",
       "   Global_intensity  Sub_metering_1  Sub_metering_2  Sub_metering_3  \\\n",
       "0              18.4             0.0             0.0            17.0   \n",
       "1              23.0             0.0             0.0            16.0   \n",
       "2              23.0             0.0             0.0            17.0   \n",
       "3              23.0             0.0             0.0            17.0   \n",
       "4              15.8             0.0             0.0            17.0   \n",
       "\n",
       "   Total_Submetering  \n",
       "0               17.0  \n",
       "1               16.0  \n",
       "2               17.0  \n",
       "3               17.0  \n",
       "4               17.0  "
      ]
     },
     "execution_count": 59,
     "metadata": {},
     "output_type": "execute_result"
    }
   ],
   "source": [
    "df.head()"
   ]
  },
  {
   "cell_type": "code",
   "execution_count": null,
   "id": "d8f399cd",
   "metadata": {},
   "outputs": [
    {
     "name": "stdout",
     "output_type": "stream",
     "text": [
      "<class 'pandas.core.frame.DataFrame'>\n",
      "RangeIndex: 1048575 entries, 0 to 1048574\n",
      "Data columns (total 10 columns):\n",
      " #   Column                 Non-Null Count    Dtype  \n",
      "---  ------                 --------------    -----  \n",
      " 0   Date                   1048575 non-null  object \n",
      " 1   Time                   1048575 non-null  object \n",
      " 2   Global_active_power    1048575 non-null  float64\n",
      " 3   Global_reactive_power  1048575 non-null  float64\n",
      " 4   Voltage                1048575 non-null  float64\n",
      " 5   Global_intensity       1048575 non-null  float64\n",
      " 6   Sub_metering_1         1048575 non-null  float64\n",
      " 7   Sub_metering_2         1048575 non-null  float64\n",
      " 8   Sub_metering_3         1048575 non-null  float64\n",
      " 9   Total_Submetering      1048575 non-null  float64\n",
      "dtypes: float64(8), object(2)\n",
      "memory usage: 80.0+ MB\n"
     ]
    }
   ],
   "source": [
    "df.info()"
   ]
  },
  {
   "cell_type": "code",
   "execution_count": 73,
   "id": "378de0f9",
   "metadata": {},
   "outputs": [
    {
     "data": {
      "image/png": "[encoded data removed]",
      "text/plain": [
       "<Figure size 1000x500 with 1 Axes>"
      ]
     },
     "metadata": {},
     "output_type": "display_data"
    }
   ],
   "source": [
    "# Converting Time(object) to Time(DateTime)\n",
    "df['Time'] = pd.to_datetime(df['Time']) \n",
    "\n",
    "# Extract hour from time\n",
    "df['Hour'] = df['Time'].dt.hour\n",
    "\n",
    "# Group by hour and compute mean power\n",
    "household_avg_power = df.groupby('Hour')['Global_active_power'].mean()\n",
    "\n",
    "\n",
    "plt.figure(figsize=(10,5))\n",
    "household_avg_power.plot(kind='line',marker='o')\n",
    "plt.title('Hourly Trend of Global Active Power')\n",
    "plt.xlabel('Hour of the Day')\n",
    "plt.ylabel('Average Global Active Power')\n",
    "plt.grid()\n",
    "plt.xticks(range(0,24))\n",
    "plt.show()\n"
   ]
  },
  {
   "cell_type": "markdown",
   "id": "74516d94",
   "metadata": {},
   "source": [
    "Why we did what we did? If we do it like below, direct extraction, the time is a string column having values like \"00:00:00\", \"00:01:00\", \"01:00:00\", etc., a very fine-grained set of time strings, resulting in 1,440 unique values, not 24 hourly bins. That's why the below graph is a mess and not at all useful.\n",
    "\n",
    "Why we have taken the mean?\n",
    "\n",
    "* You have many readings for the same hour — like 60 or more values for hour 15 (3 PM), every day.\n",
    "* All those values get jumbled in the plot.\n",
    "* You don’t get a smooth hourly trend, just a chaotic mess of points\n",
    "* By taking the mean, we have only 24 values, one per hour. This eleminates noise, giving clear and actionable sight."
   ]
  },
  {
   "cell_type": "code",
   "execution_count": 74,
   "id": "4443c194",
   "metadata": {},
   "outputs": [
    {
     "name": "stdout",
     "output_type": "stream",
     "text": [
      "Total diffrent values of Time: (1440,)\n"
     ]
    },
    {
     "data": {
      "image/png": "[encoded data removed]",
      "text/plain": [
       "<Figure size 1000x500 with 1 Axes>"
      ]
     },
     "metadata": {},
     "output_type": "display_data"
    }
   ],
   "source": [
    "print(f'Total diffrent values of Time: {df['Time'].unique().shape}')\n",
    "\n",
    "household_avg_power1 = df.groupby('Time')['Global_active_power'].mean()\n",
    "\n",
    "plt.figure(figsize=(10,5))\n",
    "household_avg_power1.plot(kind='line',marker='o')\n",
    "plt.title('Hourly Trend of Global Active Power')\n",
    "plt.xlabel('Hour of the Day')\n",
    "plt.ylabel('Average Global Active Power')\n",
    "plt.grid()\n",
    "plt.show()"
   ]
  },
  {
   "cell_type": "code",
   "execution_count": 76,
   "id": "770651dd",
   "metadata": {},
   "outputs": [
    {
     "data": {
      "text/html": [
       "<div>\n",
       "<style scoped>\n",
       "    .dataframe tbody tr th:only-of-type {\n",
       "        vertical-align: middle;\n",
       "    }\n",
       "\n",
       "    .dataframe tbody tr th {\n",
       "        vertical-align: top;\n",
       "    }\n",
       "\n",
       "    .dataframe thead th {\n",
       "        text-align: right;\n",
       "    }\n",
       "</style>\n",
       "<table border=\"1\" class=\"dataframe\">\n",
       "  <thead>\n",
       "    <tr style=\"text-align: right;\">\n",
       "      <th></th>\n",
       "      <th>Date</th>\n",
       "      <th>Time</th>\n",
       "      <th>Global_active_power</th>\n",
       "      <th>Global_reactive_power</th>\n",
       "      <th>Voltage</th>\n",
       "      <th>Global_intensity</th>\n",
       "      <th>Sub_metering_1</th>\n",
       "      <th>Sub_metering_2</th>\n",
       "      <th>Sub_metering_3</th>\n",
       "      <th>Total_Submetering</th>\n",
       "      <th>Hour</th>\n",
       "    </tr>\n",
       "  </thead>\n",
       "  <tbody>\n",
       "    <tr>\n",
       "      <th>0</th>\n",
       "      <td>16/12/2006</td>\n",
       "      <td>2025-07-27 17:24:00</td>\n",
       "      <td>4.216</td>\n",
       "      <td>0.418</td>\n",
       "      <td>234.84</td>\n",
       "      <td>18.4</td>\n",
       "      <td>0.0</td>\n",
       "      <td>0.0</td>\n",
       "      <td>17.0</td>\n",
       "      <td>17.0</td>\n",
       "      <td>17</td>\n",
       "    </tr>\n",
       "    <tr>\n",
       "      <th>1</th>\n",
       "      <td>16/12/2006</td>\n",
       "      <td>2025-07-27 17:25:00</td>\n",
       "      <td>5.360</td>\n",
       "      <td>0.436</td>\n",
       "      <td>233.63</td>\n",
       "      <td>23.0</td>\n",
       "      <td>0.0</td>\n",
       "      <td>0.0</td>\n",
       "      <td>16.0</td>\n",
       "      <td>16.0</td>\n",
       "      <td>17</td>\n",
       "    </tr>\n",
       "    <tr>\n",
       "      <th>2</th>\n",
       "      <td>16/12/2006</td>\n",
       "      <td>2025-07-27 17:26:00</td>\n",
       "      <td>5.374</td>\n",
       "      <td>0.498</td>\n",
       "      <td>233.29</td>\n",
       "      <td>23.0</td>\n",
       "      <td>0.0</td>\n",
       "      <td>0.0</td>\n",
       "      <td>17.0</td>\n",
       "      <td>17.0</td>\n",
       "      <td>17</td>\n",
       "    </tr>\n",
       "    <tr>\n",
       "      <th>3</th>\n",
       "      <td>16/12/2006</td>\n",
       "      <td>2025-07-27 17:27:00</td>\n",
       "      <td>5.388</td>\n",
       "      <td>0.502</td>\n",
       "      <td>233.74</td>\n",
       "      <td>23.0</td>\n",
       "      <td>0.0</td>\n",
       "      <td>0.0</td>\n",
       "      <td>17.0</td>\n",
       "      <td>17.0</td>\n",
       "      <td>17</td>\n",
       "    </tr>\n",
       "    <tr>\n",
       "      <th>4</th>\n",
       "      <td>16/12/2006</td>\n",
       "      <td>2025-07-27 17:28:00</td>\n",
       "      <td>3.666</td>\n",
       "      <td>0.528</td>\n",
       "      <td>235.68</td>\n",
       "      <td>15.8</td>\n",
       "      <td>0.0</td>\n",
       "      <td>0.0</td>\n",
       "      <td>17.0</td>\n",
       "      <td>17.0</td>\n",
       "      <td>17</td>\n",
       "    </tr>\n",
       "  </tbody>\n",
       "</table>\n",
       "</div>"
      ],
      "text/plain": [
       "         Date                Time  Global_active_power  Global_reactive_power  \\\n",
       "0  16/12/2006 2025-07-27 17:24:00                4.216                  0.418   \n",
       "1  16/12/2006 2025-07-27 17:25:00                5.360                  0.436   \n",
       "2  16/12/2006 2025-07-27 17:26:00                5.374                  0.498   \n",
       "3  16/12/2006 2025-07-27 17:27:00                5.388                  0.502   \n",
       "4  16/12/2006 2025-07-27 17:28:00                3.666                  0.528   \n",
       "\n",
       "   Voltage  Global_intensity  Sub_metering_1  Sub_metering_2  Sub_metering_3  \\\n",
       "0   234.84              18.4             0.0             0.0            17.0   \n",
       "1   233.63              23.0             0.0             0.0            16.0   \n",
       "2   233.29              23.0             0.0             0.0            17.0   \n",
       "3   233.74              23.0             0.0             0.0            17.0   \n",
       "4   235.68              15.8             0.0             0.0            17.0   \n",
       "\n",
       "   Total_Submetering  Hour  \n",
       "0               17.0    17  \n",
       "1               16.0    17  \n",
       "2               17.0    17  \n",
       "3               17.0    17  \n",
       "4               17.0    17  "
      ]
     },
     "execution_count": 76,
     "metadata": {},
     "output_type": "execute_result"
    }
   ],
   "source": [
    "df.head()"
   ]
  },
  {
   "cell_type": "code",
   "execution_count": 77,
   "id": "4157d431",
   "metadata": {},
   "outputs": [
    {
     "name": "stdout",
     "output_type": "stream",
     "text": [
      "Start Date: 2025-07-27 00:00:00\n",
      "End Date: 2025-07-27 23:59:00\n"
     ]
    }
   ],
   "source": [
    "# What is the range of dates present in the dataset\n",
    "print(\"Start Date:\", df['Time'].min())\n",
    "print(\"End Date:\", df['Time'].max())"
   ]
  },
  {
   "cell_type": "markdown",
   "id": "8403a327",
   "metadata": {},
   "source": [
    "# 13. Are there any noticeable trends in power consumption over different days of the week?"
   ]
  },
  {
   "cell_type": "code",
   "execution_count": null,
   "id": "22f825e4",
   "metadata": {},
   "outputs": [
    {
     "data": {
      "text/html": [
       "<div>\n",
       "<style scoped>\n",
       "    .dataframe tbody tr th:only-of-type {\n",
       "        vertical-align: middle;\n",
       "    }\n",
       "\n",
       "    .dataframe tbody tr th {\n",
       "        vertical-align: top;\n",
       "    }\n",
       "\n",
       "    .dataframe thead th {\n",
       "        text-align: right;\n",
       "    }\n",
       "</style>\n",
       "<table border=\"1\" class=\"dataframe\">\n",
       "  <thead>\n",
       "    <tr style=\"text-align: right;\">\n",
       "      <th></th>\n",
       "      <th>Date</th>\n",
       "      <th>Time</th>\n",
       "      <th>Global_active_power</th>\n",
       "      <th>Global_reactive_power</th>\n",
       "      <th>Voltage</th>\n",
       "      <th>Global_intensity</th>\n",
       "      <th>Sub_metering_1</th>\n",
       "      <th>Sub_metering_2</th>\n",
       "      <th>Sub_metering_3</th>\n",
       "      <th>Total_Submetering</th>\n",
       "      <th>Hour</th>\n",
       "    </tr>\n",
       "  </thead>\n",
       "  <tbody>\n",
       "    <tr>\n",
       "      <th>0</th>\n",
       "      <td>16/12/2006</td>\n",
       "      <td>2025-06-21 17:24:00</td>\n",
       "      <td>4.216</td>\n",
       "      <td>0.418</td>\n",
       "      <td>234.84</td>\n",
       "      <td>18.4</td>\n",
       "      <td>0.0</td>\n",
       "      <td>0.0</td>\n",
       "      <td>17.0</td>\n",
       "      <td>17.0</td>\n",
       "      <td>17</td>\n",
       "    </tr>\n",
       "    <tr>\n",
       "      <th>1</th>\n",
       "      <td>16/12/2006</td>\n",
       "      <td>2025-06-21 17:25:00</td>\n",
       "      <td>5.360</td>\n",
       "      <td>0.436</td>\n",
       "      <td>233.63</td>\n",
       "      <td>23.0</td>\n",
       "      <td>0.0</td>\n",
       "      <td>0.0</td>\n",
       "      <td>16.0</td>\n",
       "      <td>16.0</td>\n",
       "      <td>17</td>\n",
       "    </tr>\n",
       "    <tr>\n",
       "      <th>2</th>\n",
       "      <td>16/12/2006</td>\n",
       "      <td>2025-06-21 17:26:00</td>\n",
       "      <td>5.374</td>\n",
       "      <td>0.498</td>\n",
       "      <td>233.29</td>\n",
       "      <td>23.0</td>\n",
       "      <td>0.0</td>\n",
       "      <td>0.0</td>\n",
       "      <td>17.0</td>\n",
       "      <td>17.0</td>\n",
       "      <td>17</td>\n",
       "    </tr>\n",
       "    <tr>\n",
       "      <th>3</th>\n",
       "      <td>16/12/2006</td>\n",
       "      <td>2025-06-21 17:27:00</td>\n",
       "      <td>5.388</td>\n",
       "      <td>0.502</td>\n",
       "      <td>233.74</td>\n",
       "      <td>23.0</td>\n",
       "      <td>0.0</td>\n",
       "      <td>0.0</td>\n",
       "      <td>17.0</td>\n",
       "      <td>17.0</td>\n",
       "      <td>17</td>\n",
       "    </tr>\n",
       "    <tr>\n",
       "      <th>4</th>\n",
       "      <td>16/12/2006</td>\n",
       "      <td>2025-06-21 17:28:00</td>\n",
       "      <td>3.666</td>\n",
       "      <td>0.528</td>\n",
       "      <td>235.68</td>\n",
       "      <td>15.8</td>\n",
       "      <td>0.0</td>\n",
       "      <td>0.0</td>\n",
       "      <td>17.0</td>\n",
       "      <td>17.0</td>\n",
       "      <td>17</td>\n",
       "    </tr>\n",
       "  </tbody>\n",
       "</table>\n",
       "</div>"
      ],
      "text/plain": [
       "         Date                Time  Global_active_power  Global_reactive_power  \\\n",
       "0  16/12/2006 2025-06-21 17:24:00                4.216                  0.418   \n",
       "1  16/12/2006 2025-06-21 17:25:00                5.360                  0.436   \n",
       "2  16/12/2006 2025-06-21 17:26:00                5.374                  0.498   \n",
       "3  16/12/2006 2025-06-21 17:27:00                5.388                  0.502   \n",
       "4  16/12/2006 2025-06-21 17:28:00                3.666                  0.528   \n",
       "\n",
       "   Voltage  Global_intensity  Sub_metering_1  Sub_metering_2  Sub_metering_3  \\\n",
       "0   234.84              18.4             0.0             0.0            17.0   \n",
       "1   233.63              23.0             0.0             0.0            16.0   \n",
       "2   233.29              23.0             0.0             0.0            17.0   \n",
       "3   233.74              23.0             0.0             0.0            17.0   \n",
       "4   235.68              15.8             0.0             0.0            17.0   \n",
       "\n",
       "   Total_Submetering  Hour  \n",
       "0               17.0    17  \n",
       "1               16.0    17  \n",
       "2               17.0    17  \n",
       "3               17.0    17  \n",
       "4               17.0    17  "
      ]
     },
     "execution_count": 62,
     "metadata": {},
     "output_type": "execute_result"
    }
   ],
   "source": [
    "df.head()"
   ]
  },
  {
   "cell_type": "code",
   "execution_count": null,
   "id": "c1a01b5f",
   "metadata": {},
   "outputs": [
    {
     "name": "stdout",
     "output_type": "stream",
     "text": [
      "<class 'pandas.core.frame.DataFrame'>\n",
      "RangeIndex: 1048575 entries, 0 to 1048574\n",
      "Data columns (total 11 columns):\n",
      " #   Column                 Non-Null Count    Dtype         \n",
      "---  ------                 --------------    -----         \n",
      " 0   Date                   1048575 non-null  object        \n",
      " 1   Time                   1048575 non-null  datetime64[ns]\n",
      " 2   Global_active_power    1048575 non-null  float64       \n",
      " 3   Global_reactive_power  1048575 non-null  float64       \n",
      " 4   Voltage                1048575 non-null  float64       \n",
      " 5   Global_intensity       1048575 non-null  float64       \n",
      " 6   Sub_metering_1         1048575 non-null  float64       \n",
      " 7   Sub_metering_2         1048575 non-null  float64       \n",
      " 8   Sub_metering_3         1048575 non-null  float64       \n",
      " 9   Total_Submetering      1048575 non-null  float64       \n",
      " 10  Hour                   1048575 non-null  int32         \n",
      "dtypes: datetime64[ns](1), float64(8), int32(1), object(1)\n",
      "memory usage: 84.0+ MB\n"
     ]
    }
   ],
   "source": [
    "df.info()"
   ]
  },
  {
   "cell_type": "code",
   "execution_count": 86,
   "id": "fa35df6e",
   "metadata": {},
   "outputs": [
    {
     "data": {
      "text/plain": [
       "array(['Saturday', 'Sunday', 'Monday', 'Tuesday', 'Wednesday', 'Thursday',\n",
       "       'Friday'], dtype=object)"
      ]
     },
     "execution_count": 86,
     "metadata": {},
     "output_type": "execute_result"
    }
   ],
   "source": [
    "df[\"Days\"].unique()"
   ]
  },
  {
   "cell_type": "code",
   "execution_count": 83,
   "id": "2be87838",
   "metadata": {},
   "outputs": [
    {
     "data": {
      "image/png": "[encoded data removed]",
      "text/plain": [
       "<Figure size 1000x500 with 1 Axes>"
      ]
     },
     "metadata": {},
     "output_type": "display_data"
    }
   ],
   "source": [
    "# Converting Date(object) to Date(Date)\n",
    "df['Date'] = pd.to_datetime(df['Date']) \n",
    "\n",
    "# Extract Day from Date\n",
    "df['Days'] = df['Date'].dt.day_name()\n",
    "\n",
    "# Group by Day and compute power consumption\n",
    "avg_power_consumption_daywise = df.groupby('Days')['Global_active_power'].mean()\n",
    "\n",
    "\n",
    "plt.figure(figsize=(10,5))\n",
    "avg_power_consumption_daywise.plot(kind='line', marker='o')\n",
    "plt.title('Daywise Trend of Global Active Power')\n",
    "plt.xlabel('Days')\n",
    "plt.ylabel('Average Global Active Power')\n",
    "plt.grid()\n",
    "plt.show()\n"
   ]
  },
  {
   "cell_type": "markdown",
   "id": "33625b05",
   "metadata": {},
   "source": [
    "Is above graph correct? NO, because the days are in Alphabetical order. We need them in natural order."
   ]
  },
  {
   "cell_type": "code",
   "execution_count": 87,
   "id": "7e8c4fbe",
   "metadata": {},
   "outputs": [],
   "source": [
    "# Getting them in Natural order\n",
    "days_order = ['Monday', 'Tuesday', 'Wednesday', 'Thursday', 'Friday', 'Saturday', 'Sunday']\n",
    "df['Days'] = pd.Categorical(df['Days'], categories=days_order, ordered=True)"
   ]
  },
  {
   "cell_type": "code",
   "execution_count": 88,
   "id": "a247282a",
   "metadata": {},
   "outputs": [
    {
     "data": {
      "image/png": "[encoded data removed]",
      "text/plain": [
       "<Figure size 1000x500 with 1 Axes>"
      ]
     },
     "metadata": {},
     "output_type": "display_data"
    }
   ],
   "source": [
    "avg_power_consumption_daywise = df.groupby('Days')['Global_active_power'].mean()\n",
    "\n",
    "plt.figure(figsize=(10,5))\n",
    "avg_power_consumption_daywise.plot(kind='bar', color='green')\n",
    "plt.title('Daywise Trend of Global Active Power')\n",
    "plt.xlabel('Day of the Week')\n",
    "plt.ylabel('Average Global Active Power (kW)')\n",
    "plt.grid(axis='y')\n",
    "plt.xticks()\n",
    "plt.tight_layout()\n",
    "plt.show()"
   ]
  },
  {
   "cell_type": "code",
   "execution_count": 89,
   "id": "470a762b",
   "metadata": {},
   "outputs": [
    {
     "data": {
      "text/plain": [
       "Days\n",
       "Monday       0.995026\n",
       "Tuesday      1.100191\n",
       "Wednesday    1.069842\n",
       "Thursday     0.974926\n",
       "Friday       1.062511\n",
       "Saturday     1.251073\n",
       "Sunday       1.273492\n",
       "Name: Global_active_power, dtype: float64"
      ]
     },
     "execution_count": 89,
     "metadata": {},
     "output_type": "execute_result"
    }
   ],
   "source": [
    "df.groupby('Days')['Global_active_power'].mean()"
   ]
  },
  {
   "cell_type": "markdown",
   "id": "1bf1399d",
   "metadata": {},
   "source": [
    "# 14. How does Total_Submetering change over different hours of the day?"
   ]
  },
  {
   "cell_type": "code",
   "execution_count": 90,
   "id": "45271c03",
   "metadata": {},
   "outputs": [
    {
     "data": {
      "image/png": "[encoded data removed]",
      "text/plain": [
       "<Figure size 1000x500 with 1 Axes>"
      ]
     },
     "metadata": {},
     "output_type": "display_data"
    }
   ],
   "source": [
    "# Group by hour and compute mean power\n",
    "Total_Submetering_by_hour = df.groupby('Hour')[\"Total_Submetering\"].mean()\n",
    "\n",
    "\n",
    "plt.figure(figsize=(10,5))\n",
    "household_avg_power.plot(kind='line',marker='o')\n",
    "plt.title('Hourly Trend of Global Active Power')\n",
    "plt.xlabel('Hour of the Day')\n",
    "plt.ylabel('Average Global Active Power')\n",
    "plt.grid()\n",
    "plt.xticks(range(0,24))\n",
    "plt.show()\n"
   ]
  },
  {
   "cell_type": "markdown",
   "id": "8f1a3a20",
   "metadata": {},
   "source": [
    "# 15. How does voltage fluctuate throughout a single day?"
   ]
  },
  {
   "cell_type": "code",
   "execution_count": 92,
   "id": "7c6c3599",
   "metadata": {},
   "outputs": [
    {
     "data": {
      "image/png": "[encoded data removed]",
      "text/plain": [
       "<Figure size 1000x500 with 1 Axes>"
      ]
     },
     "metadata": {},
     "output_type": "display_data"
    }
   ],
   "source": [
    "avg_voltage_hourwise = df.groupby('Hour')[\"Voltage\"].mean()\n",
    "\n",
    "plt.figure(figsize=(10,5))\n",
    "avg_voltage_hourwise.plot(kind='line', marker='o')\n",
    "plt.title('Hourly Trend of Votage')\n",
    "plt.xlabel('Hour of the Day')\n",
    "plt.ylabel('Average Voltage Consumption')\n",
    "plt.grid()\n",
    "plt.xticks(range(0,24))\n",
    "plt.tight_layout()\n",
    "plt.show()"
   ]
  },
  {
   "cell_type": "markdown",
   "id": "72cbd52f",
   "metadata": {},
   "source": [
    "# 16. What is the average global_active_power usage for each month?"
   ]
  },
  {
   "cell_type": "code",
   "execution_count": 93,
   "id": "1e938c82",
   "metadata": {},
   "outputs": [],
   "source": [
    "# Making a new column Month\n",
    "df['Month'] = df['Date'].dt.month_name()"
   ]
  },
  {
   "cell_type": "code",
   "execution_count": 94,
   "id": "3c7ba834",
   "metadata": {},
   "outputs": [],
   "source": [
    "\n",
    "months_order = ['January', 'February', 'March', 'April', 'May', 'June', 'July', 'August', 'September', 'October', 'November', 'December']\n",
    "df['Month'] = pd.Categorical(values=df['Month'], categories=months_order, ordered=True)"
   ]
  },
  {
   "cell_type": "code",
   "execution_count": 95,
   "id": "07635dba",
   "metadata": {},
   "outputs": [],
   "source": [
    "\n",
    "avg_global_active_power_monthly = df.groupby('Month')['Global_active_power'].mean()"
   ]
  },
  {
   "cell_type": "code",
   "execution_count": 96,
   "id": "81cb61c9",
   "metadata": {},
   "outputs": [
    {
     "data": {
      "text/plain": [
       "Month\n",
       "January      1.502926\n",
       "February     1.289230\n",
       "March        1.281953\n",
       "April        0.965179\n",
       "May          1.005049\n",
       "June         0.910032\n",
       "July         0.730077\n",
       "August       0.520143\n",
       "September    0.978477\n",
       "October      1.119767\n",
       "November     1.340595\n",
       "December     1.635400\n",
       "Name: Global_active_power, dtype: float64"
      ]
     },
     "execution_count": 96,
     "metadata": {},
     "output_type": "execute_result"
    }
   ],
   "source": [
    "avg_global_active_power_monthly"
   ]
  },
  {
   "cell_type": "code",
   "execution_count": 97,
   "id": "052124ff",
   "metadata": {},
   "outputs": [
    {
     "data": {
      "image/png": "[encoded data removed]",
      "text/plain": [
       "<Figure size 1000x500 with 1 Axes>"
      ]
     },
     "metadata": {},
     "output_type": "display_data"
    }
   ],
   "source": [
    "plt.figure(figsize=(10,5))\n",
    "avg_global_active_power_monthly.plot(kind='bar', color='green')\n",
    "plt.title('Monthly Trend of Global Active Power')\n",
    "plt.xlabel('Months')\n",
    "plt.ylabel('Average Global Active Power (kW)')\n",
    "plt.grid(axis='y')\n",
    "plt.xticks()\n",
    "plt.tight_layout()\n",
    "plt.show()"
   ]
  },
  {
   "cell_type": "markdown",
   "id": "0c6d2cb8",
   "metadata": {},
   "source": [
    "# Q17. Which sub-metering category (sub_metering_1, sub_metering_2, or sub_metering_3) consumes the most power on average?"
   ]
  },
  {
   "cell_type": "code",
   "execution_count": 98,
   "id": "60895d71",
   "metadata": {},
   "outputs": [
    {
     "name": "stdout",
     "output_type": "stream",
     "text": [
      "1m = 0.0\n",
      "2m = 0.0\n",
      "3m = 5.91081038552321\n"
     ]
    }
   ],
   "source": [
    "print(f'1m = {df['Sub_metering_1'].mean()}')\n",
    "print(f'2m = {df['Sub_metering_2'].mean()}')\n",
    "print(f'3m = {df['Sub_metering_3'].mean()}')"
   ]
  },
  {
   "cell_type": "markdown",
   "id": "01bf05f2",
   "metadata": {},
   "source": [
    "Sub Metering 3 consumes the most average power and is significantly higher than the other two"
   ]
  },
  {
   "cell_type": "markdown",
   "id": "deee5c16",
   "metadata": {},
   "source": [
    "# Q18. How does Total_Submetering compare with global_active_power? Is there a strong correlation?"
   ]
  },
  {
   "cell_type": "code",
   "execution_count": 101,
   "id": "58d79be5",
   "metadata": {},
   "outputs": [
    {
     "data": {
      "text/plain": [
       "np.float64(0.6250577540329219)"
      ]
     },
     "execution_count": 101,
     "metadata": {},
     "output_type": "execute_result"
    }
   ],
   "source": [
    "df['Total_Submetering'].corr(df['Global_active_power'])"
   ]
  },
  {
   "cell_type": "markdown",
   "id": "93e0188c",
   "metadata": {},
   "source": [
    "* Yes, there is a strong correlation (0.83) between Total_sub_metering and Global_active_power.\n",
    "\n",
    "* But since the correlation is not perfect (i.e., not close to 1), it suggests that some part of the total power is not captured by the three sub-meterings."
   ]
  },
  {
   "cell_type": "code",
   "execution_count": 103,
   "id": "edb62db7",
   "metadata": {},
   "outputs": [
    {
     "data": {
      "image/png": "[encoded data removed]",
      "text/plain": [
       "<Figure size 800x500 with 1 Axes>"
      ]
     },
     "metadata": {},
     "output_type": "display_data"
    }
   ],
   "source": [
    "plt.figure(figsize=(8,5))\n",
    "plt.scatter(df['Total_Submetering'], df['Global_active_power'], alpha=0.3, color='teal')\n",
    "plt.title('Correlation between Total Sub-Metering and Global Active Power')\n",
    "plt.xlabel('Total Sub-Metering')\n",
    "plt.ylabel('Global Active Power (kW)')\n",
    "plt.grid(True)\n",
    "plt.tight_layout()\n",
    "plt.show()"
   ]
  },
  {
   "cell_type": "code",
   "execution_count": null,
   "id": "7c215926",
   "metadata": {},
   "outputs": [],
   "source": [
    "# Take a random sample of 5000 rows\n",
    "# sampled_df = df.sample(n=5000, random_state=1)\n",
    "# plt.figure(figsize=(8, 5))\n",
    "# sns.regplot(x='Total_Submetering', y='Global_active_power', data=df, scatter_kws={'alpha': 0.3}, line_kws={'color': 'red'})\n",
    "# plt.title('Correlation between Total Sub-Metering and Global Active Power (Sampled)')\n",
    "# plt.xlabel('Total Sub-Metering')\n",
    "# plt.ylabel('Global Active Power (kW)')\n",
    "# plt.grid(True)\n",
    "# plt.tight_layout()\n",
    "# plt.show()"
   ]
  },
  {
   "cell_type": "markdown",
   "id": "d9dae24c",
   "metadata": {},
   "source": [
    "# Q19. How much energy is consumed outside of the three sub-metering categories (global_active_power - Total_Submetering)?"
   ]
  },
  {
   "cell_type": "code",
   "execution_count": 106,
   "id": "07365acd",
   "metadata": {},
   "outputs": [],
   "source": [
    "# Global_active_power is in kilowatts, and the sub-meterings are in watt-minutes, so we multiply Global_active_power by 1000/60 to convert it to watt-minutes.\n",
    "df['Unmetered_power'] = df['Global_active_power']*1000/60 - (\n",
    "    df['Total_Submetering']\n",
    ")"
   ]
  },
  {
   "cell_type": "code",
   "execution_count": 107,
   "id": "ab84fbb1",
   "metadata": {},
   "outputs": [
    {
     "name": "stdout",
     "output_type": "stream",
     "text": [
      "Total energy consumed outside sub-metering: 218.24 kWh\n"
     ]
    }
   ],
   "source": [
    "total_unmetered_energy = df['Unmetered_power'].sum()\n",
    "print(f\"Total energy consumed outside sub-metering: {(total_unmetered_energy/(1000*60)):.2f} kWh\")"
   ]
  },
  {
   "cell_type": "markdown",
   "id": "2075b401",
   "metadata": {},
   "source": [
    "# Q20. Are there any specific time periods where Total_Submetering is significantly higher or lower than usual?"
   ]
  },
  {
   "cell_type": "code",
   "execution_count": 109,
   "id": "4d07c4b9",
   "metadata": {},
   "outputs": [],
   "source": [
    "avg_total_submetering_hourly = df.groupby('Hour')['Total_Submetering'].mean()"
   ]
  },
  {
   "cell_type": "code",
   "execution_count": 110,
   "id": "6846c130",
   "metadata": {},
   "outputs": [
    {
     "name": "stdout",
     "output_type": "stream",
     "text": [
      "High Usage Hours:\n",
      "Hour\n",
      "7      9.512546\n",
      "8     11.675595\n",
      "9     11.513484\n",
      "10    10.470627\n",
      "Name: Total_Submetering, dtype: float64\n",
      "\n",
      "Low Usage Hours:\n",
      "Hour\n",
      "1    2.079510\n",
      "2    1.555678\n",
      "3    1.308310\n",
      "4    1.417811\n",
      "5    1.757853\n",
      "Name: Total_Submetering, dtype: float64\n"
     ]
    }
   ],
   "source": [
    "# Assuming avg_total_submetering_hourly is already defined\n",
    "mean_val = avg_total_submetering_hourly.mean()\n",
    "std_val = avg_total_submetering_hourly.std()\n",
    "\n",
    "print(\"High Usage Hours:\")\n",
    "print(avg_total_submetering_hourly[avg_total_submetering_hourly > mean_val + std_val])\n",
    "\n",
    "print(\"\\nLow Usage Hours:\")\n",
    "print(avg_total_submetering_hourly[avg_total_submetering_hourly < mean_val - std_val])"
   ]
  },
  {
   "cell_type": "markdown",
   "id": "56fde4f6",
   "metadata": {},
   "source": [
    "This shows the hours where sub-metering is significantly above or below average, using one standard deviation."
   ]
  },
  {
   "cell_type": "code",
   "execution_count": 111,
   "id": "953da009",
   "metadata": {},
   "outputs": [
    {
     "data": {
      "image/png": "[encoded data removed]",
      "text/plain": [
       "<Figure size 1000x500 with 1 Axes>"
      ]
     },
     "metadata": {},
     "output_type": "display_data"
    }
   ],
   "source": [
    "#                                                       GRAPHICAL REPRESNTATION\n",
    "\n",
    "# Looser thresholds: mean ± 0.5 * std\n",
    "high_threshold = mean_val + 0.5 * std_val\n",
    "low_threshold = mean_val - 0.5 * std_val\n",
    "\n",
    "# Get the hours that exceed or fall below threshold\n",
    "high_hours = avg_total_submetering_hourly[avg_total_submetering_hourly > high_threshold]\n",
    "low_hours = avg_total_submetering_hourly[avg_total_submetering_hourly < low_threshold]\n",
    "\n",
    "plt.figure(figsize=(10, 5))\n",
    "avg_total_submetering_hourly.plot(kind='line', marker='o', color='blue', label='Hourly Avg')\n",
    "\n",
    "plt.axhline(mean_val, color='gray', linestyle='--', label='Overall Average')\n",
    "\n",
    "# Plot significant highs and lows\n",
    "plt.scatter(high_hours.index, high_hours.values, color='red', label='High Usage', zorder=5)\n",
    "plt.scatter(low_hours.index, low_hours.values, color='green', label='Low Usage', zorder=5)\n",
    "\n",
    "plt.title('Hourly Trend of Total Submetering')\n",
    "plt.xlabel('Hour of the Day')\n",
    "plt.ylabel('Total Submeter Reading')\n",
    "plt.grid(True)\n",
    "plt.xticks(range(0, 24))\n",
    "plt.legend()\n",
    "plt.tight_layout()\n",
    "plt.show()"
   ]
  },
  {
   "cell_type": "markdown",
   "id": "e7b11a37",
   "metadata": {},
   "source": [
    "Q21. Which hour of the day has the highest Total_Submetering on average?"
   ]
  },
  {
   "cell_type": "code",
   "execution_count": 113,
   "id": "25c067a1",
   "metadata": {},
   "outputs": [],
   "source": [
    "# Adding date column\n",
    "df['Date'] = df['Time'].dt.date\n",
    "df.drop(columns='Date', inplace=True)"
   ]
  },
  {
   "cell_type": "markdown",
   "id": "dcf773c2",
   "metadata": {},
   "source": [
    "Changing column name from Time to DateTime"
   ]
  },
  {
   "cell_type": "code",
   "execution_count": 121,
   "id": "75e00e0f",
   "metadata": {},
   "outputs": [],
   "source": [
    "df.rename(columns={\"Time\": \"DateTime\"}, inplace=True)"
   ]
  },
  {
   "cell_type": "code",
   "execution_count": 122,
   "id": "d10f8a0e",
   "metadata": {},
   "outputs": [
    {
     "name": "stdout",
     "output_type": "stream",
     "text": [
      "<class 'pandas.core.frame.DataFrame'>\n",
      "RangeIndex: 1048575 entries, 0 to 1048574\n",
      "Data columns (total 13 columns):\n",
      " #   Column                 Non-Null Count    Dtype         \n",
      "---  ------                 --------------    -----         \n",
      " 0   DateTime               1048575 non-null  datetime64[ns]\n",
      " 1   Global_active_power    1048575 non-null  float64       \n",
      " 2   Global_reactive_power  1048575 non-null  float64       \n",
      " 3   Voltage                1048575 non-null  float64       \n",
      " 4   Global_intensity       1048575 non-null  float64       \n",
      " 5   Sub_metering_1         1048575 non-null  float64       \n",
      " 6   Sub_metering_2         1048575 non-null  float64       \n",
      " 7   Sub_metering_3         1048575 non-null  float64       \n",
      " 8   Total_Submetering      1048575 non-null  float64       \n",
      " 9   Hour                   1048575 non-null  int32         \n",
      " 10  Days                   1048575 non-null  category      \n",
      " 11  Month                  1048575 non-null  category      \n",
      " 12  Unmetered_power        1048575 non-null  float64       \n",
      "dtypes: category(2), datetime64[ns](1), float64(9), int32(1)\n",
      "memory usage: 86.0 MB\n"
     ]
    }
   ],
   "source": [
    "df.info()"
   ]
  },
  {
   "cell_type": "code",
   "execution_count": 123,
   "id": "6e167877",
   "metadata": {},
   "outputs": [
    {
     "data": {
      "text/html": [
       "<div>\n",
       "<style scoped>\n",
       "    .dataframe tbody tr th:only-of-type {\n",
       "        vertical-align: middle;\n",
       "    }\n",
       "\n",
       "    .dataframe tbody tr th {\n",
       "        vertical-align: top;\n",
       "    }\n",
       "\n",
       "    .dataframe thead th {\n",
       "        text-align: right;\n",
       "    }\n",
       "</style>\n",
       "<table border=\"1\" class=\"dataframe\">\n",
       "  <thead>\n",
       "    <tr style=\"text-align: right;\">\n",
       "      <th></th>\n",
       "      <th>DateTime</th>\n",
       "      <th>Global_active_power</th>\n",
       "      <th>Global_reactive_power</th>\n",
       "      <th>Voltage</th>\n",
       "      <th>Global_intensity</th>\n",
       "      <th>Sub_metering_1</th>\n",
       "      <th>Sub_metering_2</th>\n",
       "      <th>Sub_metering_3</th>\n",
       "      <th>Total_Submetering</th>\n",
       "      <th>Hour</th>\n",
       "      <th>Days</th>\n",
       "      <th>Month</th>\n",
       "      <th>Unmetered_power</th>\n",
       "    </tr>\n",
       "  </thead>\n",
       "  <tbody>\n",
       "    <tr>\n",
       "      <th>0</th>\n",
       "      <td>2025-07-27 17:24:00</td>\n",
       "      <td>4.216</td>\n",
       "      <td>0.418</td>\n",
       "      <td>234.84</td>\n",
       "      <td>18.4</td>\n",
       "      <td>0.0</td>\n",
       "      <td>0.0</td>\n",
       "      <td>17.0</td>\n",
       "      <td>17.0</td>\n",
       "      <td>17</td>\n",
       "      <td>Saturday</td>\n",
       "      <td>December</td>\n",
       "      <td>53.266667</td>\n",
       "    </tr>\n",
       "    <tr>\n",
       "      <th>1</th>\n",
       "      <td>2025-07-27 17:25:00</td>\n",
       "      <td>5.360</td>\n",
       "      <td>0.436</td>\n",
       "      <td>233.63</td>\n",
       "      <td>23.0</td>\n",
       "      <td>0.0</td>\n",
       "      <td>0.0</td>\n",
       "      <td>16.0</td>\n",
       "      <td>16.0</td>\n",
       "      <td>17</td>\n",
       "      <td>Saturday</td>\n",
       "      <td>December</td>\n",
       "      <td>73.333333</td>\n",
       "    </tr>\n",
       "    <tr>\n",
       "      <th>2</th>\n",
       "      <td>2025-07-27 17:26:00</td>\n",
       "      <td>5.374</td>\n",
       "      <td>0.498</td>\n",
       "      <td>233.29</td>\n",
       "      <td>23.0</td>\n",
       "      <td>0.0</td>\n",
       "      <td>0.0</td>\n",
       "      <td>17.0</td>\n",
       "      <td>17.0</td>\n",
       "      <td>17</td>\n",
       "      <td>Saturday</td>\n",
       "      <td>December</td>\n",
       "      <td>72.566667</td>\n",
       "    </tr>\n",
       "    <tr>\n",
       "      <th>3</th>\n",
       "      <td>2025-07-27 17:27:00</td>\n",
       "      <td>5.388</td>\n",
       "      <td>0.502</td>\n",
       "      <td>233.74</td>\n",
       "      <td>23.0</td>\n",
       "      <td>0.0</td>\n",
       "      <td>0.0</td>\n",
       "      <td>17.0</td>\n",
       "      <td>17.0</td>\n",
       "      <td>17</td>\n",
       "      <td>Saturday</td>\n",
       "      <td>December</td>\n",
       "      <td>72.800000</td>\n",
       "    </tr>\n",
       "    <tr>\n",
       "      <th>4</th>\n",
       "      <td>2025-07-27 17:28:00</td>\n",
       "      <td>3.666</td>\n",
       "      <td>0.528</td>\n",
       "      <td>235.68</td>\n",
       "      <td>15.8</td>\n",
       "      <td>0.0</td>\n",
       "      <td>0.0</td>\n",
       "      <td>17.0</td>\n",
       "      <td>17.0</td>\n",
       "      <td>17</td>\n",
       "      <td>Saturday</td>\n",
       "      <td>December</td>\n",
       "      <td>44.100000</td>\n",
       "    </tr>\n",
       "  </tbody>\n",
       "</table>\n",
       "</div>"
      ],
      "text/plain": [
       "             DateTime  Global_active_power  Global_reactive_power  Voltage  \\\n",
       "0 2025-07-27 17:24:00                4.216                  0.418   234.84   \n",
       "1 2025-07-27 17:25:00                5.360                  0.436   233.63   \n",
       "2 2025-07-27 17:26:00                5.374                  0.498   233.29   \n",
       "3 2025-07-27 17:27:00                5.388                  0.502   233.74   \n",
       "4 2025-07-27 17:28:00                3.666                  0.528   235.68   \n",
       "\n",
       "   Global_intensity  Sub_metering_1  Sub_metering_2  Sub_metering_3  \\\n",
       "0              18.4             0.0             0.0            17.0   \n",
       "1              23.0             0.0             0.0            16.0   \n",
       "2              23.0             0.0             0.0            17.0   \n",
       "3              23.0             0.0             0.0            17.0   \n",
       "4              15.8             0.0             0.0            17.0   \n",
       "\n",
       "   Total_Submetering  Hour      Days     Month  Unmetered_power  \n",
       "0               17.0    17  Saturday  December        53.266667  \n",
       "1               16.0    17  Saturday  December        73.333333  \n",
       "2               17.0    17  Saturday  December        72.566667  \n",
       "3               17.0    17  Saturday  December        72.800000  \n",
       "4               17.0    17  Saturday  December        44.100000  "
      ]
     },
     "execution_count": 123,
     "metadata": {},
     "output_type": "execute_result"
    }
   ],
   "source": [
    "df.head()"
   ]
  },
  {
   "cell_type": "markdown",
   "id": "6e8619b4",
   "metadata": {},
   "source": [
    "# Copying Cleaned Data to CSV"
   ]
  },
  {
   "cell_type": "code",
   "execution_count": 124,
   "id": "8dc720c0",
   "metadata": {},
   "outputs": [],
   "source": [
    "df.to_csv('cleaned_dataset.csv', index=False)"
   ]
  }
 ],
 "metadata": {
  "kernelspec": {
   "display_name": "Python 3",
   "language": "python",
   "name": "python3"
  },
  "language_info": {
   "codemirror_mode": {
    "name": "ipython",
    "version": 3
   },
   "file_extension": ".py",
   "mimetype": "text/x-python",
   "name": "python",
   "nbconvert_exporter": "python",
   "pygments_lexer": "ipython3",
   "version": "3.13.3"
  }
 },
 "nbformat": 4,
 "nbformat_minor": 5
}
